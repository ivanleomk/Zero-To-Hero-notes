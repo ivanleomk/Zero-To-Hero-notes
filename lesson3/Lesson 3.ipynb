{
 "cells": [
  {
   "cell_type": "code",
   "execution_count": 1,
   "id": "47a3ca31-64da-4276-9b40-32cff7eeb80d",
   "metadata": {},
   "outputs": [],
   "source": [
    "import torch\n",
    "import torch.nn.functional as F\n",
    "import matplotlib.pyplot as plt # for making figures\n",
    "%matplotlib inline\n",
    "import random"
   ]
  },
  {
   "cell_type": "markdown",
   "id": "6555ad66-5144-4511-8fd4-cd64886525c5",
   "metadata": {},
   "source": [
    "# Dataset "
   ]
  },
  {
   "cell_type": "markdown",
   "id": "fbc2c68a-d2c7-4c63-951b-9678b6d4d455",
   "metadata": {},
   "source": [
    "## Cleaning Data"
   ]
  },
  {
   "cell_type": "code",
   "execution_count": 2,
   "id": "998fd1e0-7fbd-46ff-a384-d2892eec173c",
   "metadata": {},
   "outputs": [
    {
     "name": "stdout",
     "output_type": "stream",
     "text": [
      "  % Total    % Received % Xferd  Average Speed   Time    Time     Time  Current\n",
      "                                 Dload  Upload   Total   Spent    Left  Speed\n",
      "100  222k  100  222k    0     0   378k      0 --:--:-- --:--:-- --:--:--  382k\n"
     ]
    }
   ],
   "source": [
    "!curl https://raw.githubusercontent.com/karpathy/makemore/master/names.txt > names.txt"
   ]
  },
  {
   "cell_type": "code",
   "execution_count": 3,
   "id": "d40ea776-0c0f-44d3-a69f-6e2bc4a85e0b",
   "metadata": {},
   "outputs": [
    {
     "data": {
      "text/plain": [
       "['emma', 'olivia', 'ava', 'isabella', 'sophia']"
      ]
     },
     "execution_count": 3,
     "metadata": {},
     "output_type": "execute_result"
    }
   ],
   "source": [
    "words = [i.strip() for i in open(\"names.txt\").readlines()]\n",
    "words[:5]"
   ]
  },
  {
   "cell_type": "code",
   "execution_count": 4,
   "id": "c1b07fd2-1bbc-430f-808f-eee76e48994e",
   "metadata": {},
   "outputs": [
    {
     "name": "stdout",
     "output_type": "stream",
     "text": [
      "{1: 'a', 2: 'b', 3: 'c', 4: 'd', 5: 'e', 6: 'f', 7: 'g', 8: 'h', 9: 'i', 10: 'j', 11: 'k', 12: 'l', 13: 'm', 14: 'n', 15: 'o', 16: 'p', 17: 'q', 18: 'r', 19: 's', 20: 't', 21: 'u', 22: 'v', 23: 'w', 24: 'x', 25: 'y', 26: 'z', 0: '.'}\n"
     ]
    }
   ],
   "source": [
    "chars = sorted(list(set(''.join(words))))\n",
    "stoi = {s:i+1 for i,s in enumerate(chars)}\n",
    "stoi['.'] = 0\n",
    "itos = {i:s for s,i in stoi.items()}\n",
    "print(itos)"
   ]
  },
  {
   "attachments": {},
   "cell_type": "markdown",
   "id": "a862e989-8c8d-4859-b4c3-02814bad3840",
   "metadata": {},
   "source": [
    "# MLP Model"
   ]
  },
  {
   "cell_type": "markdown",
   "id": "43e833dc-004d-414b-adf4-be293ba390b5",
   "metadata": {},
   "source": [
    "## Building a Block\n",
    "\n",
    "The goal is to create a MLP model which will make a prediction based on the previous 3 characters. Each character will be assigned an embedding and we will in turn use the 3 embeddings generated from these 3 characters to make a prediction\n",
    "\n",
    "![MLP Schema](MLP_Diagram.png)"
   ]
  },
  {
   "cell_type": "markdown",
   "id": "123e8517-9a1f-41cd-b2ed-164657bbf3a6",
   "metadata": {},
   "source": [
    "These prior 3 characters that we are using to make a prediction will be called the `block_size`"
   ]
  },
  {
   "cell_type": "code",
   "execution_count": 5,
   "id": "473f4466-f264-4185-ba2a-57e3a30c712f",
   "metadata": {},
   "outputs": [
    {
     "name": "stdout",
     "output_type": "stream",
     "text": [
      "... ---> e\n",
      "..e ---> m\n",
      ".em ---> m\n",
      "emm ---> a\n",
      "mma ---> .\n",
      "... ---> o\n",
      "..o ---> l\n",
      ".ol ---> i\n",
      "oli ---> v\n",
      "liv ---> i\n",
      "ivi ---> a\n",
      "via ---> .\n",
      "... ---> a\n",
      "..a ---> v\n",
      ".av ---> a\n",
      "ava ---> .\n",
      "... ---> i\n",
      "..i ---> s\n",
      ".is ---> a\n",
      "isa ---> b\n",
      "sab ---> e\n",
      "abe ---> l\n",
      "bel ---> l\n",
      "ell ---> a\n",
      "lla ---> .\n",
      "... ---> s\n",
      "..s ---> o\n",
      ".so ---> p\n",
      "sop ---> h\n",
      "oph ---> i\n",
      "phi ---> a\n",
      "hia ---> .\n"
     ]
    }
   ],
   "source": [
    "# build the dataset\n",
    "block_size = 3 # context length: how many characters do we take to predict the next one?\n",
    "X, Y = [], []\n",
    "for w in words[:5]:\n",
    "  \n",
    "  #print(w)\n",
    "  context = [0] * block_size\n",
    "  for ch in w + '.':\n",
    "    ix = stoi[ch]\n",
    "    X.append(context)\n",
    "    Y.append(ix)\n",
    "    print(''.join(itos[i] for i in context), '--->', itos[ix])\n",
    "    context = context[1:] + [ix] # crop and append\n",
    "  \n",
    "X = torch.tensor(X)\n",
    "Y = torch.tensor(Y)"
   ]
  },
  {
   "cell_type": "code",
   "execution_count": 6,
   "id": "1c96afb2-d3ae-4fac-b64a-c00c7e3022af",
   "metadata": {},
   "outputs": [
    {
     "data": {
      "text/plain": [
       "(torch.Size([32, 3]), torch.int64, torch.Size([32]), torch.int64)"
      ]
     },
     "execution_count": 6,
     "metadata": {},
     "output_type": "execute_result"
    }
   ],
   "source": [
    "X.shape, X.dtype, Y.shape, Y.dtype"
   ]
  },
  {
   "cell_type": "markdown",
   "id": "e4a0f8cf-7dc3-42dd-9575-e7b91318755c",
   "metadata": {},
   "source": [
    "## Experiments with Embeddings"
   ]
  },
  {
   "cell_type": "markdown",
   "id": "b45cff8e-d8bc-4742-97b3-133f88a9895f",
   "metadata": {},
   "source": [
    "Similar to our weights we can generate embeddings using a torch.randn. In our case, we'll be starting by using an embedding dimension of 2"
   ]
  },
  {
   "cell_type": "code",
   "execution_count": 7,
   "id": "a83a010f-9c1f-4b5b-969b-f5581916ac88",
   "metadata": {},
   "outputs": [],
   "source": [
    " C = torch.randn((27,2))"
   ]
  },
  {
   "cell_type": "markdown",
   "id": "0be8da6c-d0d4-4735-a0e0-a39c86e7a6f2",
   "metadata": {},
   "source": [
    "If we want to get the embedding for a number, we take it's index according to our `stoi` dictionary"
   ]
  },
  {
   "cell_type": "code",
   "execution_count": 8,
   "id": "ee5f7ff9-0e2a-45da-8708-9d070053f7c5",
   "metadata": {},
   "outputs": [
    {
     "data": {
      "text/plain": [
       "tensor([-0.2921,  0.8547])"
      ]
     },
     "execution_count": 8,
     "metadata": {},
     "output_type": "execute_result"
    }
   ],
   "source": [
    "C[stoi['b']]"
   ]
  },
  {
   "cell_type": "markdown",
   "id": "c5896cd0-18c9-473f-9b2d-0207c9c50c7f",
   "metadata": {},
   "source": [
    "However, we can also use a one-hot encoded value by performing some more matrix multiplication"
   ]
  },
  {
   "cell_type": "code",
   "execution_count": 9,
   "id": "f2495a3e-0795-4117-9694-977e5d211711",
   "metadata": {},
   "outputs": [
    {
     "data": {
      "text/plain": [
       "tensor([-0.2921,  0.8547])"
      ]
     },
     "execution_count": 9,
     "metadata": {},
     "output_type": "execute_result"
    }
   ],
   "source": [
    "ind = stoi['b']\n",
    "F.one_hot(torch.tensor(ind),num_classes=27).float() @ C"
   ]
  },
  {
   "cell_type": "markdown",
   "id": "c05fbfa3-2b59-46f4-8591-b0f84aae072e",
   "metadata": {},
   "source": [
    "We can take advantage of pytorch's support for lists of indexes to get the relevant embeddings for a series of characters"
   ]
  },
  {
   "cell_type": "code",
   "execution_count": 10,
   "id": "27627538-00ee-477c-8f56-d681ba3f9ded",
   "metadata": {},
   "outputs": [
    {
     "data": {
      "text/plain": [
       "tensor([[ 0,  0,  0],\n",
       "        [ 0,  0,  5],\n",
       "        [ 0,  5, 13],\n",
       "        [ 5, 13, 13],\n",
       "        [13, 13,  1],\n",
       "        [ 0,  0,  0],\n",
       "        [ 0,  0, 15],\n",
       "        [ 0, 15, 12],\n",
       "        [15, 12,  9],\n",
       "        [12,  9, 22],\n",
       "        [ 9, 22,  9],\n",
       "        [22,  9,  1],\n",
       "        [ 0,  0,  0],\n",
       "        [ 0,  0,  1],\n",
       "        [ 0,  1, 22],\n",
       "        [ 1, 22,  1],\n",
       "        [ 0,  0,  0],\n",
       "        [ 0,  0,  9],\n",
       "        [ 0,  9, 19],\n",
       "        [ 9, 19,  1],\n",
       "        [19,  1,  2],\n",
       "        [ 1,  2,  5],\n",
       "        [ 2,  5, 12],\n",
       "        [ 5, 12, 12],\n",
       "        [12, 12,  1],\n",
       "        [ 0,  0,  0],\n",
       "        [ 0,  0, 19],\n",
       "        [ 0, 19, 15],\n",
       "        [19, 15, 16],\n",
       "        [15, 16,  8],\n",
       "        [16,  8,  9],\n",
       "        [ 8,  9,  1]])"
      ]
     },
     "execution_count": 10,
     "metadata": {},
     "output_type": "execute_result"
    }
   ],
   "source": [
    "X"
   ]
  },
  {
   "cell_type": "markdown",
   "id": "42a4d9ee-2fcb-49e5-bea9-deb49c56971e",
   "metadata": {},
   "source": [
    "Therefore we can just use `X` which contains the indexes of the individual characters in a given block of characters to generate a list of embeddings that correspond to the characters in the block."
   ]
  },
  {
   "cell_type": "code",
   "execution_count": 11,
   "id": "62f58ad5-ddaa-43db-aad9-4a629790d3da",
   "metadata": {},
   "outputs": [
    {
     "data": {
      "text/plain": [
       "tensor([[[ 3.9669e-02,  1.0601e+00],\n",
       "         [ 3.9669e-02,  1.0601e+00],\n",
       "         [ 3.9669e-02,  1.0601e+00]],\n",
       "\n",
       "        [[ 3.9669e-02,  1.0601e+00],\n",
       "         [ 3.9669e-02,  1.0601e+00],\n",
       "         [-6.7963e-01, -1.2524e-01]],\n",
       "\n",
       "        [[ 3.9669e-02,  1.0601e+00],\n",
       "         [-6.7963e-01, -1.2524e-01],\n",
       "         [-2.9936e-01,  6.8382e-02]],\n",
       "\n",
       "        [[-6.7963e-01, -1.2524e-01],\n",
       "         [-2.9936e-01,  6.8382e-02],\n",
       "         [-2.9936e-01,  6.8382e-02]],\n",
       "\n",
       "        [[-2.9936e-01,  6.8382e-02],\n",
       "         [-2.9936e-01,  6.8382e-02],\n",
       "         [-1.8553e+00, -9.0283e-01]],\n",
       "\n",
       "        [[ 3.9669e-02,  1.0601e+00],\n",
       "         [ 3.9669e-02,  1.0601e+00],\n",
       "         [ 3.9669e-02,  1.0601e+00]],\n",
       "\n",
       "        [[ 3.9669e-02,  1.0601e+00],\n",
       "         [ 3.9669e-02,  1.0601e+00],\n",
       "         [-1.0657e+00, -2.1607e+00]],\n",
       "\n",
       "        [[ 3.9669e-02,  1.0601e+00],\n",
       "         [-1.0657e+00, -2.1607e+00],\n",
       "         [-3.9801e-01, -9.2553e-01]],\n",
       "\n",
       "        [[-1.0657e+00, -2.1607e+00],\n",
       "         [-3.9801e-01, -9.2553e-01],\n",
       "         [-4.0844e-01,  7.6871e-01]],\n",
       "\n",
       "        [[-3.9801e-01, -9.2553e-01],\n",
       "         [-4.0844e-01,  7.6871e-01],\n",
       "         [-5.7133e-02,  4.7567e-01]],\n",
       "\n",
       "        [[-4.0844e-01,  7.6871e-01],\n",
       "         [-5.7133e-02,  4.7567e-01],\n",
       "         [-4.0844e-01,  7.6871e-01]],\n",
       "\n",
       "        [[-5.7133e-02,  4.7567e-01],\n",
       "         [-4.0844e-01,  7.6871e-01],\n",
       "         [-1.8553e+00, -9.0283e-01]],\n",
       "\n",
       "        [[ 3.9669e-02,  1.0601e+00],\n",
       "         [ 3.9669e-02,  1.0601e+00],\n",
       "         [ 3.9669e-02,  1.0601e+00]],\n",
       "\n",
       "        [[ 3.9669e-02,  1.0601e+00],\n",
       "         [ 3.9669e-02,  1.0601e+00],\n",
       "         [-1.8553e+00, -9.0283e-01]],\n",
       "\n",
       "        [[ 3.9669e-02,  1.0601e+00],\n",
       "         [-1.8553e+00, -9.0283e-01],\n",
       "         [-5.7133e-02,  4.7567e-01]],\n",
       "\n",
       "        [[-1.8553e+00, -9.0283e-01],\n",
       "         [-5.7133e-02,  4.7567e-01],\n",
       "         [-1.8553e+00, -9.0283e-01]],\n",
       "\n",
       "        [[ 3.9669e-02,  1.0601e+00],\n",
       "         [ 3.9669e-02,  1.0601e+00],\n",
       "         [ 3.9669e-02,  1.0601e+00]],\n",
       "\n",
       "        [[ 3.9669e-02,  1.0601e+00],\n",
       "         [ 3.9669e-02,  1.0601e+00],\n",
       "         [-4.0844e-01,  7.6871e-01]],\n",
       "\n",
       "        [[ 3.9669e-02,  1.0601e+00],\n",
       "         [-4.0844e-01,  7.6871e-01],\n",
       "         [ 8.8945e-01, -3.3493e-02]],\n",
       "\n",
       "        [[-4.0844e-01,  7.6871e-01],\n",
       "         [ 8.8945e-01, -3.3493e-02],\n",
       "         [-1.8553e+00, -9.0283e-01]],\n",
       "\n",
       "        [[ 8.8945e-01, -3.3493e-02],\n",
       "         [-1.8553e+00, -9.0283e-01],\n",
       "         [-2.9206e-01,  8.5468e-01]],\n",
       "\n",
       "        [[-1.8553e+00, -9.0283e-01],\n",
       "         [-2.9206e-01,  8.5468e-01],\n",
       "         [-6.7963e-01, -1.2524e-01]],\n",
       "\n",
       "        [[-2.9206e-01,  8.5468e-01],\n",
       "         [-6.7963e-01, -1.2524e-01],\n",
       "         [-3.9801e-01, -9.2553e-01]],\n",
       "\n",
       "        [[-6.7963e-01, -1.2524e-01],\n",
       "         [-3.9801e-01, -9.2553e-01],\n",
       "         [-3.9801e-01, -9.2553e-01]],\n",
       "\n",
       "        [[-3.9801e-01, -9.2553e-01],\n",
       "         [-3.9801e-01, -9.2553e-01],\n",
       "         [-1.8553e+00, -9.0283e-01]],\n",
       "\n",
       "        [[ 3.9669e-02,  1.0601e+00],\n",
       "         [ 3.9669e-02,  1.0601e+00],\n",
       "         [ 3.9669e-02,  1.0601e+00]],\n",
       "\n",
       "        [[ 3.9669e-02,  1.0601e+00],\n",
       "         [ 3.9669e-02,  1.0601e+00],\n",
       "         [ 8.8945e-01, -3.3493e-02]],\n",
       "\n",
       "        [[ 3.9669e-02,  1.0601e+00],\n",
       "         [ 8.8945e-01, -3.3493e-02],\n",
       "         [-1.0657e+00, -2.1607e+00]],\n",
       "\n",
       "        [[ 8.8945e-01, -3.3493e-02],\n",
       "         [-1.0657e+00, -2.1607e+00],\n",
       "         [-7.8424e-01, -1.3829e+00]],\n",
       "\n",
       "        [[-1.0657e+00, -2.1607e+00],\n",
       "         [-7.8424e-01, -1.3829e+00],\n",
       "         [-3.8101e-01,  5.3093e-04]],\n",
       "\n",
       "        [[-7.8424e-01, -1.3829e+00],\n",
       "         [-3.8101e-01,  5.3093e-04],\n",
       "         [-4.0844e-01,  7.6871e-01]],\n",
       "\n",
       "        [[-3.8101e-01,  5.3093e-04],\n",
       "         [-4.0844e-01,  7.6871e-01],\n",
       "         [-1.8553e+00, -9.0283e-01]]])"
      ]
     },
     "execution_count": 11,
     "metadata": {},
     "output_type": "execute_result"
    }
   ],
   "source": [
    "C[X]"
   ]
  },
  {
   "cell_type": "markdown",
   "id": "4a0ad86e-d8bb-4cc5-a28b-59d0ee1a5af2",
   "metadata": {},
   "source": [
    "## Combining Our Embeddings\n",
    "\n",
    "Note that our Embeddings give us a 3 x 2 matrix. We'd ideally like to have a single vector with 6 elements. Therefore, we can use some inbuilt torch functions to get what we want"
   ]
  },
  {
   "cell_type": "code",
   "execution_count": 12,
   "id": "3c6ce3a7-1f89-422e-84c7-634c3d4f63ad",
   "metadata": {},
   "outputs": [
    {
     "data": {
      "text/plain": [
       "tensor([[0.0397, 1.0601],\n",
       "        [0.0397, 1.0601],\n",
       "        [0.0397, 1.0601]])"
      ]
     },
     "execution_count": 12,
     "metadata": {},
     "output_type": "execute_result"
    }
   ],
   "source": [
    "emb = C[X][0]\n",
    "emb"
   ]
  },
  {
   "cell_type": "markdown",
   "id": "6e8a8102-8a93-495b-80f2-7b72cf031d9a",
   "metadata": {},
   "source": [
    "Ideally, what we want is"
   ]
  },
  {
   "cell_type": "code",
   "execution_count": 13,
   "id": "f565f566-e30c-4097-a880-3cba1da3e8ee",
   "metadata": {},
   "outputs": [
    {
     "data": {
      "text/plain": [
       "tensor([1.9348, 0.0306, 1.9348, 0.0306, 1.9348, 0.0306])"
      ]
     },
     "execution_count": 13,
     "metadata": {},
     "output_type": "execute_result"
    }
   ],
   "source": [
    "torch.tensor([1.9348,0.0306,1.9348, 0.0306,1.9348, 0.0306])"
   ]
  },
  {
   "cell_type": "markdown",
   "id": "bf893de0-73dc-43c3-937f-aedebd04b2c2",
   "metadata": {},
   "source": [
    "Karpathy goes through three different ways to do so\n",
    "\n",
    "1. Using the `.cat` functionality - However, this cannot be generalised and we cannot easily change the dimensionality of our embeddings.\n",
    "2. Using the `.unbind` function - however, this is inefficient since we are creating a new variable in memory\n",
    "3. using the `.view` function - This does not create a new variable in memory but instead simply works off the original `.storage` variable\n",
    "\n",
    "Hint: #3 is the best and most efficient one to use"
   ]
  },
  {
   "cell_type": "code",
   "execution_count": 14,
   "id": "4b98f19f-2e91-491e-a9b5-0df93f6d993f",
   "metadata": {},
   "outputs": [],
   "source": [
    "emb = C[X]"
   ]
  },
  {
   "cell_type": "code",
   "execution_count": 15,
   "id": "11fc7630-9c08-40fe-87f4-3bdf315ac497",
   "metadata": {},
   "outputs": [],
   "source": [
    "cat_torch = torch.cat([emb[:,0,:],emb[:,1,:],emb[:,2,:]],1)"
   ]
  },
  {
   "cell_type": "code",
   "execution_count": 16,
   "id": "026a7034-e4a8-42e4-a7b7-2fca18fce79e",
   "metadata": {},
   "outputs": [],
   "source": [
    "unbind_cat_torch = torch.cat(torch.unbind(emb,1),1)"
   ]
  },
  {
   "cell_type": "markdown",
   "id": "30da6603-8818-4212-b14b-915947219ef9",
   "metadata": {},
   "source": [
    "We can validate that this is true by performing an element wise comparison"
   ]
  },
  {
   "cell_type": "code",
   "execution_count": 17,
   "id": "a88dda60-6c33-46b2-a23b-503622a67c3d",
   "metadata": {},
   "outputs": [
    {
     "data": {
      "text/plain": [
       "tensor([[True, True, True, True, True, True],\n",
       "        [True, True, True, True, True, True],\n",
       "        [True, True, True, True, True, True],\n",
       "        [True, True, True, True, True, True],\n",
       "        [True, True, True, True, True, True],\n",
       "        [True, True, True, True, True, True],\n",
       "        [True, True, True, True, True, True],\n",
       "        [True, True, True, True, True, True],\n",
       "        [True, True, True, True, True, True],\n",
       "        [True, True, True, True, True, True],\n",
       "        [True, True, True, True, True, True],\n",
       "        [True, True, True, True, True, True],\n",
       "        [True, True, True, True, True, True],\n",
       "        [True, True, True, True, True, True],\n",
       "        [True, True, True, True, True, True],\n",
       "        [True, True, True, True, True, True],\n",
       "        [True, True, True, True, True, True],\n",
       "        [True, True, True, True, True, True],\n",
       "        [True, True, True, True, True, True],\n",
       "        [True, True, True, True, True, True],\n",
       "        [True, True, True, True, True, True],\n",
       "        [True, True, True, True, True, True],\n",
       "        [True, True, True, True, True, True],\n",
       "        [True, True, True, True, True, True],\n",
       "        [True, True, True, True, True, True],\n",
       "        [True, True, True, True, True, True],\n",
       "        [True, True, True, True, True, True],\n",
       "        [True, True, True, True, True, True],\n",
       "        [True, True, True, True, True, True],\n",
       "        [True, True, True, True, True, True],\n",
       "        [True, True, True, True, True, True],\n",
       "        [True, True, True, True, True, True]])"
      ]
     },
     "execution_count": 17,
     "metadata": {},
     "output_type": "execute_result"
    }
   ],
   "source": [
    "cat_torch == unbind_cat_torch"
   ]
  },
  {
   "cell_type": "code",
   "execution_count": 18,
   "id": "4a205b2b-01eb-478f-ae87-637be5b2995c",
   "metadata": {},
   "outputs": [
    {
     "data": {
      "text/plain": [
       "tensor([[True, True, True, True, True, True],\n",
       "        [True, True, True, True, True, True],\n",
       "        [True, True, True, True, True, True],\n",
       "        [True, True, True, True, True, True],\n",
       "        [True, True, True, True, True, True],\n",
       "        [True, True, True, True, True, True],\n",
       "        [True, True, True, True, True, True],\n",
       "        [True, True, True, True, True, True],\n",
       "        [True, True, True, True, True, True],\n",
       "        [True, True, True, True, True, True],\n",
       "        [True, True, True, True, True, True],\n",
       "        [True, True, True, True, True, True],\n",
       "        [True, True, True, True, True, True],\n",
       "        [True, True, True, True, True, True],\n",
       "        [True, True, True, True, True, True],\n",
       "        [True, True, True, True, True, True],\n",
       "        [True, True, True, True, True, True],\n",
       "        [True, True, True, True, True, True],\n",
       "        [True, True, True, True, True, True],\n",
       "        [True, True, True, True, True, True],\n",
       "        [True, True, True, True, True, True],\n",
       "        [True, True, True, True, True, True],\n",
       "        [True, True, True, True, True, True],\n",
       "        [True, True, True, True, True, True],\n",
       "        [True, True, True, True, True, True],\n",
       "        [True, True, True, True, True, True],\n",
       "        [True, True, True, True, True, True],\n",
       "        [True, True, True, True, True, True],\n",
       "        [True, True, True, True, True, True],\n",
       "        [True, True, True, True, True, True],\n",
       "        [True, True, True, True, True, True],\n",
       "        [True, True, True, True, True, True]])"
      ]
     },
     "execution_count": 18,
     "metadata": {},
     "output_type": "execute_result"
    }
   ],
   "source": [
    "emb.view(32,6) == unbind_cat_torch"
   ]
  },
  {
   "cell_type": "markdown",
   "id": "bf280463-2920-41b3-9cef-056713d5c631",
   "metadata": {},
   "source": [
    "## Two Layer Perceptron\n",
    "\n",
    "We now create a set of weights and our two layers which will create a final output vector of 27 elements"
   ]
  },
  {
   "cell_type": "code",
   "execution_count": 19,
   "id": "9d73b007-11ec-4fdd-af7d-c15d561a805c",
   "metadata": {},
   "outputs": [],
   "source": [
    "W1 = torch.randn((6,100))\n",
    "b1 = torch.randn(100)"
   ]
  },
  {
   "cell_type": "code",
   "execution_count": 20,
   "id": "915f92f7-ce7d-421f-b43c-8713de2c583a",
   "metadata": {},
   "outputs": [],
   "source": [
    "h = torch.tanh(emb.view(-1,6) @ W1 + b1)"
   ]
  },
  {
   "cell_type": "code",
   "execution_count": 21,
   "id": "4720c34f-1152-47fc-b415-81af762cc5a5",
   "metadata": {},
   "outputs": [
    {
     "data": {
      "text/plain": [
       "tensor([[-0.9901,  0.9739,  0.9627,  ...,  0.9997, -0.6647, -0.0996],\n",
       "        [-0.9999,  0.8891, -0.9399,  ...,  0.9957,  0.5909,  0.0978],\n",
       "        [-0.9989,  0.1173, -0.1139,  ...,  0.9577,  0.5397, -0.8893],\n",
       "        ...,\n",
       "        [-0.9356, -0.4122,  0.9999,  ..., -0.9999,  0.6793, -0.8318],\n",
       "        [-0.9895,  0.8568,  0.9996,  ..., -0.7100, -0.3347, -0.2608],\n",
       "        [-1.0000,  0.5301, -0.9997,  ...,  0.5021,  0.9272,  0.0993]])"
      ]
     },
     "execution_count": 21,
     "metadata": {},
     "output_type": "execute_result"
    }
   ],
   "source": [
    "h"
   ]
  },
  {
   "cell_type": "code",
   "execution_count": 22,
   "id": "4ecb6fc2-c8cc-479b-8e0f-0919f0035e4d",
   "metadata": {},
   "outputs": [],
   "source": [
    "W2 = torch.randn((100,27))\n",
    "b2 = torch.randn(27)"
   ]
  },
  {
   "cell_type": "code",
   "execution_count": 23,
   "id": "75714acb-42ca-49d8-8268-a36ea5a783f7",
   "metadata": {},
   "outputs": [],
   "source": [
    "logits = h @ W2 + b2"
   ]
  },
  {
   "cell_type": "code",
   "execution_count": 24,
   "id": "3ba8c500-68c5-468e-a7f9-db1f2bc6bab5",
   "metadata": {},
   "outputs": [],
   "source": [
    "counts = logits.exp()\n",
    "prob = counts / counts.sum(1,keepdims=True)"
   ]
  },
  {
   "cell_type": "code",
   "execution_count": 25,
   "id": "ba2c253a-11a5-4e43-b25c-0ceb066e8bba",
   "metadata": {},
   "outputs": [
    {
     "data": {
      "text/plain": [
       "torch.Size([32, 27])"
      ]
     },
     "execution_count": 25,
     "metadata": {},
     "output_type": "execute_result"
    }
   ],
   "source": [
    "prob.shape"
   ]
  },
  {
   "cell_type": "markdown",
   "id": "57486ee2-fe6d-4fe7-8dc5-df79fde66c21",
   "metadata": {},
   "source": [
    "# Training Our Neural Network"
   ]
  },
  {
   "cell_type": "markdown",
   "id": "80438cdc-420e-4974-89bb-e26d2114b6f6",
   "metadata": {},
   "source": [
    "## Loss Function"
   ]
  },
  {
   "cell_type": "markdown",
   "id": "9e6990d1-f93b-4d15-bcf4-238e3296222f",
   "metadata": {},
   "source": [
    "We've now generated a total of 32 predictions for each of our individual x values. our next step is to then calculate the loss using the *average negative log likelihood*"
   ]
  },
  {
   "cell_type": "code",
   "execution_count": 26,
   "id": "43073d8a-bac3-42de-a8b3-0998f4ea1b66",
   "metadata": {},
   "outputs": [
    {
     "name": "stdout",
     "output_type": "stream",
     "text": [
      "tensor(15.4219)\n"
     ]
    }
   ],
   "source": [
    "# First get the relevant probabilities\n",
    "loss = prob[torch.arange(32),Y]\n",
    "\n",
    "# Then get the negative log of the probabilities\n",
    "loss = -1 * loss.log()\n",
    "\n",
    "# Then take the mean of the value\n",
    "loss = loss.mean()\n",
    "\n",
    "print(loss)"
   ]
  },
  {
   "cell_type": "markdown",
   "id": "12dfbf04-30a4-48e6-abd3-98f3f2018bfb",
   "metadata": {},
   "source": [
    "It turns out that our loss function has a name, the cross-entropy. In our case, we definitely want to use the pytorch implementation. \n",
    "\n",
    "This is because \n",
    "\n",
    "1. We want to make sure we are using an optimized version of our loss function\n",
    "2. We want to avoid any unfortunate mathematical issues\n",
    "\n",
    "We can validate that we get the same result when we use the `cross_entropy` function with our original `logits` and `Y`"
   ]
  },
  {
   "cell_type": "code",
   "execution_count": 27,
   "id": "9bf8de03-c11a-43b9-928b-96493f32938d",
   "metadata": {},
   "outputs": [
    {
     "data": {
      "text/plain": [
       "tensor(15.4219)"
      ]
     },
     "execution_count": 27,
     "metadata": {},
     "output_type": "execute_result"
    }
   ],
   "source": [
    "F.cross_entropy(logits,Y)"
   ]
  },
  {
   "cell_type": "markdown",
   "id": "523952a2-2afd-42e7-a52b-52ef1d07db8d",
   "metadata": {},
   "source": [
    "Turns out that we can get unexplained behaviour when working with exponentiated values. "
   ]
  },
  {
   "cell_type": "code",
   "execution_count": 28,
   "id": "d92e31f9-1cb8-452c-a8db-2a22ad5756c3",
   "metadata": {},
   "outputs": [
    {
     "data": {
      "text/plain": [
       "tensor([0., 0., nan, nan])"
      ]
     },
     "execution_count": 28,
     "metadata": {},
     "output_type": "execute_result"
    }
   ],
   "source": [
    "logits = torch.tensor([-44,-3,100,200])\n",
    "counts = logits.exp()\n",
    "probs = counts / counts.sum()\n",
    "probs"
   ]
  },
  {
   "cell_type": "code",
   "execution_count": 29,
   "id": "b8867ce0-a075-4861-bd60-41a195cf9dbf",
   "metadata": {},
   "outputs": [
    {
     "data": {
      "text/plain": [
       "tensor([0.0000e+00, 0.0000e+00, 3.7835e-44, 1.0000e+00])"
      ]
     },
     "execution_count": 29,
     "metadata": {},
     "output_type": "execute_result"
    }
   ],
   "source": [
    "logits = torch.tensor([-44,-3,100,200]) - 200\n",
    "counts = logits.exp()\n",
    "probs = counts / counts.sum()\n",
    "probs"
   ]
  },
  {
   "cell_type": "markdown",
   "id": "43892522-7df4-4460-bab7-8cae299bccd9",
   "metadata": {},
   "source": [
    "## Training our network"
   ]
  },
  {
   "cell_type": "markdown",
   "id": "4741c46b-6819-43af-a4e8-90d4dc6985bc",
   "metadata": {},
   "source": [
    "Let's now put together what we've come up with into a single value"
   ]
  },
  {
   "cell_type": "code",
   "execution_count": 30,
   "id": "570dd47f-f207-4e05-9eea-9d687b304db9",
   "metadata": {},
   "outputs": [],
   "source": [
    "g = torch.Generator().manual_seed(2147483647) # for reproducibility\n",
    "C = torch.randn((27, 2), generator=g)\n",
    "W1 = torch.randn((6, 100), generator=g)\n",
    "b1 = torch.randn(100, generator=g)\n",
    "W2 = torch.randn((100, 27), generator=g)\n",
    "b2 = torch.randn(27, generator=g)\n",
    "parameters = [C, W1, b1, W2, b2]"
   ]
  },
  {
   "cell_type": "code",
   "execution_count": 31,
   "id": "6cbe1153-6de9-481f-87cc-a8a126a5e969",
   "metadata": {},
   "outputs": [
    {
     "data": {
      "text/plain": [
       "3481"
      ]
     },
     "execution_count": 31,
     "metadata": {},
     "output_type": "execute_result"
    }
   ],
   "source": [
    "sum(p.nelement() for p in parameters)"
   ]
  },
  {
   "cell_type": "code",
   "execution_count": 32,
   "id": "2a5e886d-2cdc-420d-b7df-9c04483d88af",
   "metadata": {},
   "outputs": [],
   "source": [
    "for p in parameters:\n",
    "  p.requires_grad = True"
   ]
  },
  {
   "cell_type": "markdown",
   "id": "472afd53-dc59-46cb-9cf2-7d6037d08b2b",
   "metadata": {},
   "source": [
    "We can now try to run our model for a few iterations"
   ]
  },
  {
   "cell_type": "code",
   "execution_count": 33,
   "id": "64361e77-98b0-4db7-bc32-01f6c3544acf",
   "metadata": {},
   "outputs": [
    {
     "name": "stdout",
     "output_type": "stream",
     "text": [
      "Average Loss : 17.76971435546875\n",
      "Average Loss : 13.656400680541992\n",
      "Average Loss : 11.298768997192383\n",
      "Average Loss : 9.4524564743042\n",
      "Average Loss : 7.984262943267822\n",
      "Average Loss : 6.891321182250977\n",
      "Average Loss : 6.100014686584473\n",
      "Average Loss : 5.452036380767822\n",
      "Average Loss : 4.898151874542236\n",
      "Average Loss : 4.4146647453308105\n"
     ]
    }
   ],
   "source": [
    "for _ in range(10):\n",
    "    emb = C[X]\n",
    "    h = torch.tanh(emb.view(-1,6)@W1+b1)\n",
    "    logits = h @ W2 + b2\n",
    "\n",
    "    for p in parameters:\n",
    "        p.grad = None\n",
    "    \n",
    "    loss = F.cross_entropy(logits,Y)\n",
    "    loss.backward()\n",
    "\n",
    "    print(f\"Average Loss : {loss}\")\n",
    "\n",
    "    for p in parameters:\n",
    "        p.data += -0.1 * p.grad\n",
    "    "
   ]
  },
  {
   "cell_type": "markdown",
   "id": "34ee9b98-c809-4afa-ada8-9f5286c50096",
   "metadata": {},
   "source": [
    "We can run this for more iterations to get the loss to decrease more on our 32 examples. However, there is a strong chance that we are overfitting on our dataset - since we are working with only 32 examples and have 1100+ parameters"
   ]
  },
  {
   "cell_type": "markdown",
   "id": "3962ebe1-08d5-41a5-be35-8fdc2c8322d2",
   "metadata": {},
   "source": [
    "## Extending to the entire dataset"
   ]
  },
  {
   "cell_type": "markdown",
   "id": "ceaf95f8-bff0-40ed-88b0-3523b01482db",
   "metadata": {},
   "source": [
    "Now we try to expand our training to the entire dataset instead of just 32 characters"
   ]
  },
  {
   "cell_type": "code",
   "execution_count": 34,
   "id": "d60a7b0e-6881-452a-8698-7b782d1385ca",
   "metadata": {},
   "outputs": [
    {
     "name": "stdout",
     "output_type": "stream",
     "text": [
      "Num Examples : 228146\n"
     ]
    }
   ],
   "source": [
    "# build the dataset\n",
    "block_size = 3 # context length: how many characters do we take to predict the next one?\n",
    "X, Y = [], []\n",
    "for w in words:\n",
    "  \n",
    "  #print(w)\n",
    "  context = [0] * block_size\n",
    "  for ch in w + '.':\n",
    "    ix = stoi[ch]\n",
    "    X.append(context)\n",
    "    Y.append(ix)\n",
    "    context = context[1:] + [ix] # crop and append\n",
    "  \n",
    "X = torch.tensor(X)\n",
    "Y = torch.tensor(Y)\n",
    "print(f\"Num Examples : {len(X)}\")"
   ]
  },
  {
   "cell_type": "code",
   "execution_count": 35,
   "id": "3c34c52f-a3ab-4d10-8ed7-22aa4ec77cc3",
   "metadata": {},
   "outputs": [],
   "source": [
    "g = torch.Generator().manual_seed(2147483647) # for reproducibility\n",
    "C = torch.randn((27, 2), generator=g)\n",
    "W1 = torch.randn((6, 100), generator=g)\n",
    "b1 = torch.randn(100, generator=g)\n",
    "W2 = torch.randn((100, 27), generator=g)\n",
    "b2 = torch.randn(27, generator=g)\n",
    "parameters = [C, W1, b1, W2, b2]"
   ]
  },
  {
   "cell_type": "code",
   "execution_count": 36,
   "id": "1e1fbc8c-b534-4b5f-be20-a12439a655cb",
   "metadata": {},
   "outputs": [],
   "source": [
    "for p in parameters:\n",
    "  p.requires_grad = True"
   ]
  },
  {
   "cell_type": "code",
   "execution_count": 37,
   "id": "2b00ebbc-7a20-4acb-82bb-4a9a03aa512e",
   "metadata": {},
   "outputs": [
    {
     "name": "stdout",
     "output_type": "stream",
     "text": [
      "Average Loss : 19.505229949951172\n",
      "Average Loss : 17.084484100341797\n",
      "Average Loss : 15.776531219482422\n",
      "Average Loss : 14.833340644836426\n",
      "Average Loss : 14.002605438232422\n",
      "Average Loss : 13.253263473510742\n",
      "Average Loss : 12.57991886138916\n",
      "Average Loss : 11.983102798461914\n",
      "Average Loss : 11.470492362976074\n",
      "Average Loss : 11.05185604095459\n"
     ]
    }
   ],
   "source": [
    "for _ in range(10):\n",
    "    emb = C[X]\n",
    "    h = torch.tanh(emb.view(-1,6)@W1+b1)\n",
    "    logits = h @ W2 + b2\n",
    "\n",
    "    for p in parameters:\n",
    "        p.grad = None\n",
    "    \n",
    "    loss = F.cross_entropy(logits,Y)\n",
    "    loss.backward()\n",
    "\n",
    "    print(f\"Average Loss : {loss}\")\n",
    "\n",
    "    for p in parameters:\n",
    "        p.data += -0.1 * p.grad\n",
    "    "
   ]
  },
  {
   "cell_type": "markdown",
   "id": "e0950176-b35f-4309-a094-55f9fd148221",
   "metadata": {},
   "source": [
    "## Mini Batch\n",
    "\n",
    "Since we're doing a lot of work doing a backward and forward pass on 28000+ input examples, We can perform our normalization using a randomly selected group of inputs, often called a mini batch"
   ]
  },
  {
   "cell_type": "code",
   "execution_count": 38,
   "id": "beb5f4d5-c8cd-4731-b526-4a1aee195f1b",
   "metadata": {},
   "outputs": [
    {
     "data": {
      "text/plain": [
       "torch.Size([228146, 3])"
      ]
     },
     "execution_count": 38,
     "metadata": {},
     "output_type": "execute_result"
    }
   ],
   "source": [
    "X.shape"
   ]
  },
  {
   "cell_type": "code",
   "execution_count": 39,
   "id": "bb2fae04-6385-4b08-8bff-2247143b8642",
   "metadata": {},
   "outputs": [
    {
     "name": "stdout",
     "output_type": "stream",
     "text": [
      "tensor([3, 2, 0])\n",
      "tensor([138286,  22290, 188127])\n"
     ]
    }
   ],
   "source": [
    "print(torch.randint(0,5,(3,)))\n",
    "print(torch.randint(0,X.shape[0],(3,)))"
   ]
  },
  {
   "cell_type": "markdown",
   "id": "05f1e53b-c508-4b97-94da-ba2a3906599c",
   "metadata": {},
   "source": [
    "We can use this randomly generated set of integers in order to generate a list of 32 randomly selected integers that correspond to a valid input in our dataset"
   ]
  },
  {
   "cell_type": "code",
   "execution_count": 40,
   "id": "13d9aa46-d402-4e01-b5e6-d7ab4c2ebaf9",
   "metadata": {},
   "outputs": [],
   "source": [
    "g = torch.Generator().manual_seed(2147483647) # for reproducibility\n",
    "C = torch.randn((27, 2), generator=g)\n",
    "W1 = torch.randn((6, 100), generator=g)\n",
    "b1 = torch.randn(100, generator=g)\n",
    "W2 = torch.randn((100, 27), generator=g)\n",
    "b2 = torch.randn(27, generator=g)\n",
    "parameters = [C, W1, b1, W2, b2]\n",
    "\n",
    "for p in parameters:\n",
    "  p.requires_grad = True"
   ]
  },
  {
   "cell_type": "code",
   "execution_count": 41,
   "id": "c2db548e-38d2-40c1-9383-d6b8e37f6fec",
   "metadata": {},
   "outputs": [
    {
     "name": "stdout",
     "output_type": "stream",
     "text": [
      "Average Loss : 23.03775405883789\n",
      "Average Loss : 14.046167373657227\n",
      "Average Loss : 16.10528564453125\n",
      "Average Loss : 14.860451698303223\n",
      "Average Loss : 15.716188430786133\n",
      "Average Loss : 11.141573905944824\n",
      "Average Loss : 10.73473072052002\n",
      "Average Loss : 14.11490249633789\n",
      "Average Loss : 11.50970458984375\n",
      "Average Loss : 15.008676528930664\n",
      "CPU times: user 35 ms, sys: 7.97 ms, total: 42.9 ms\n",
      "Wall time: 11 ms\n"
     ]
    }
   ],
   "source": [
    "%%time\n",
    "for _ in range(10):\n",
    "    ix = torch.randint(0,X.shape[0],(32,))\n",
    "    emb = C[X[ix]]\n",
    "    h = torch.tanh(emb.view(-1,6)@W1+b1)\n",
    "    logits = h @ W2 + b2\n",
    "\n",
    "    for p in parameters:\n",
    "        p.grad = None\n",
    "    \n",
    "    loss = F.cross_entropy(logits,Y[ix])\n",
    "    loss.backward()\n",
    "\n",
    "    print(f\"Average Loss : {loss}\")\n",
    "\n",
    "    for p in parameters:\n",
    "        p.data += -0.1 * p.grad\n",
    "    "
   ]
  },
  {
   "cell_type": "code",
   "execution_count": 42,
   "id": "96a99535-a50b-4efe-aec7-a24acf160695",
   "metadata": {},
   "outputs": [],
   "source": [
    "g = torch.Generator().manual_seed(2147483647) # for reproducibility\n",
    "C = torch.randn((27, 2), generator=g)\n",
    "W1 = torch.randn((6, 100), generator=g)\n",
    "b1 = torch.randn(100, generator=g)\n",
    "W2 = torch.randn((100, 27), generator=g)\n",
    "b2 = torch.randn(27, generator=g)\n",
    "parameters = [C, W1, b1, W2, b2]\n",
    "\n",
    "for p in parameters:\n",
    "  p.requires_grad = True"
   ]
  },
  {
   "cell_type": "code",
   "execution_count": 43,
   "id": "b9d43f6a-45e2-40d5-8470-f434446616bf",
   "metadata": {},
   "outputs": [
    {
     "name": "stdout",
     "output_type": "stream",
     "text": [
      "Average Loss : 19.505229949951172\n",
      "Average Loss : 17.08448600769043\n",
      "Average Loss : 15.776532173156738\n",
      "Average Loss : 14.833341598510742\n",
      "Average Loss : 14.002608299255371\n",
      "Average Loss : 13.253263473510742\n",
      "Average Loss : 12.57991886138916\n",
      "Average Loss : 11.983104705810547\n",
      "Average Loss : 11.47049331665039\n",
      "Average Loss : 11.05185604095459\n",
      "CPU times: user 6.23 s, sys: 292 ms, total: 6.52 s\n",
      "Wall time: 1.78 s\n"
     ]
    }
   ],
   "source": [
    "%%time\n",
    "for _ in range(10):\n",
    "    emb = C[X]\n",
    "    h = torch.tanh(emb.view(-1,6)@W1+b1)\n",
    "    logits = h @ W2 + b2\n",
    "\n",
    "    for p in parameters:\n",
    "        p.grad = None\n",
    "    \n",
    "    loss = F.cross_entropy(logits,Y)\n",
    "    loss.backward()\n",
    "\n",
    "    print(f\"Average Loss : {loss}\")\n",
    "\n",
    "    for p in parameters:\n",
    "        p.data += -0.1 * p.grad"
   ]
  },
  {
   "cell_type": "code",
   "execution_count": 44,
   "id": "1db788f0-3188-4eb6-bae7-c0ab5c4750aa",
   "metadata": {},
   "outputs": [
    {
     "data": {
      "text/plain": [
       "217.1875"
      ]
     },
     "execution_count": 44,
     "metadata": {},
     "output_type": "execute_result"
    }
   ],
   "source": [
    "(6.95 * 1000) / 32"
   ]
  },
  {
   "cell_type": "markdown",
   "id": "89f00715-02ba-48f7-bacf-1a79077a6c13",
   "metadata": {},
   "source": [
    "By using a mini batch, we were able to speed up the training of our neural network and still arrive at a comparable loss. \n",
    "\n",
    "In our example above, we saw an apprximate 200x speedup using the mini-batch approach. This means that for the same amount of time, we can run a significantly larger amount of steps"
   ]
  },
  {
   "cell_type": "code",
   "execution_count": 45,
   "id": "6a10b202-eaca-410a-8b9d-d0bec9f519b6",
   "metadata": {},
   "outputs": [],
   "source": [
    "g = torch.Generator().manual_seed(2147483647) # for reproducibility\n",
    "C = torch.randn((27, 2), generator=g)\n",
    "W1 = torch.randn((6, 100), generator=g)\n",
    "b1 = torch.randn(100, generator=g)\n",
    "W2 = torch.randn((100, 27), generator=g)\n",
    "b2 = torch.randn(27, generator=g)\n",
    "parameters = [C, W1, b1, W2, b2]\n",
    "\n",
    "for p in parameters:\n",
    "  p.requires_grad = True"
   ]
  },
  {
   "cell_type": "code",
   "execution_count": 46,
   "id": "c7de2fdb-8741-47d0-9e13-d5053572bc6a",
   "metadata": {},
   "outputs": [
    {
     "name": "stdout",
     "output_type": "stream",
     "text": [
      "0/6000 : Average Loss : 21.071876525878906\n",
      "1000/6000 : Average Loss : 2.530060291290283\n",
      "2000/6000 : Average Loss : 2.7828454971313477\n",
      "3000/6000 : Average Loss : 2.675440549850464\n",
      "4000/6000 : Average Loss : 2.6496787071228027\n",
      "5000/6000 : Average Loss : 2.465813398361206\n",
      "CPU times: user 6.55 s, sys: 111 ms, total: 6.66 s\n",
      "Wall time: 1.71 s\n"
     ]
    }
   ],
   "source": [
    "%%time\n",
    "epochs = 6000\n",
    "for idx in range(epochs):\n",
    "    ix = torch.randint(0,X.shape[0],(32,))\n",
    "    emb = C[X[ix]]\n",
    "    h = torch.tanh(emb.view(-1,6)@W1+b1)\n",
    "    logits = h @ W2 + b2\n",
    "\n",
    "    for p in parameters:\n",
    "        p.grad = None\n",
    "    \n",
    "    loss = F.cross_entropy(logits,Y[ix])\n",
    "    loss.backward()\n",
    "\n",
    "    if idx % 1000 == 0:\n",
    "        print(f\"{idx}/{epochs} : Average Loss : {loss}\")\n",
    "\n",
    "    for p in parameters:\n",
    "        p.data += -0.1 * p.grad\n",
    "    "
   ]
  },
  {
   "cell_type": "markdown",
   "id": "9bd0700a-35c6-4b5c-8d5d-a908bbd326cc",
   "metadata": {},
   "source": [
    "We can see that in the approximate amount of time, we were able to run almost 3000 more training steps as compared to using the entire dataset.\n"
   ]
  },
  {
   "cell_type": "code",
   "execution_count": 47,
   "id": "3f2dba44-1ff3-4668-9227-14f3e7ba6e26",
   "metadata": {},
   "outputs": [
    {
     "name": "stdout",
     "output_type": "stream",
     "text": [
      "tensor(2.5721, grad_fn=<NllLossBackward0>)\n"
     ]
    }
   ],
   "source": [
    "emb = C[X]\n",
    "h = torch.tanh(emb.view(-1,6)@W1+b1)\n",
    "logits = h @ W2 + b2\n",
    "loss = F.cross_entropy(logits,Y)\n",
    "print(loss)"
   ]
  },
  {
   "cell_type": "markdown",
   "id": "e43351e4-a015-494f-a4ec-1d1cb60f8f55",
   "metadata": {},
   "source": [
    "We were also able to achieve a significantly lower loss of 2.5299 as compared to 11.05185604095459 when evaluated against the entire training set"
   ]
  },
  {
   "cell_type": "markdown",
   "id": "6db3b12c-972a-45c4-a842-4faaf5638661",
   "metadata": {},
   "source": [
    "# Hyper-Parameter Tuning"
   ]
  },
  {
   "cell_type": "markdown",
   "id": "82fc2cc3-36b4-4438-bf27-b65278b08b2d",
   "metadata": {},
   "source": [
    "## Learning Rate Optimization\n",
    "\n",
    "We experiment with a quick attempt at learning rate optimization"
   ]
  },
  {
   "cell_type": "code",
   "execution_count": 48,
   "id": "8c74ff35-6bca-4ad1-b855-233a50bf05fb",
   "metadata": {},
   "outputs": [],
   "source": [
    "def generate_loss_for_lr(lr=0.1):\n",
    "    print(f\"---Calculating Loss for Learning Rate of {lr}\")\n",
    "    g = torch.Generator().manual_seed(2147483647) # for reproducibility\n",
    "    C = torch.randn((27, 2), generator=g)\n",
    "    W1 = torch.randn((6, 100), generator=g)\n",
    "    b1 = torch.randn(100, generator=g)\n",
    "    W2 = torch.randn((100, 27), generator=g)\n",
    "    b2 = torch.randn(27, generator=g)\n",
    "    parameters = [C, W1, b1, W2, b2]\n",
    "    \n",
    "    for p in parameters:\n",
    "      p.requires_grad = True\n",
    "\n",
    "    epochs = 200\n",
    "\n",
    "    idx_and_loss = []\n",
    "    for idx in range(epochs):\n",
    "        ix = torch.randint(0,X.shape[0],(32,))\n",
    "        emb = C[X[ix]]\n",
    "        h = torch.tanh(emb.view(-1,6)@W1+b1)\n",
    "        logits = h @ W2 + b2\n",
    "    \n",
    "        for p in parameters:\n",
    "            p.grad = None\n",
    "        \n",
    "        loss = F.cross_entropy(logits,Y[ix])\n",
    "        idx_and_loss.append([idx,loss])\n",
    "        loss.backward()\n",
    "        \n",
    "    \n",
    "        if idx % 50 == 0:\n",
    "            print(f\"{idx}/{epochs} : Average Loss : {loss}\")\n",
    "    \n",
    "        for p in parameters:\n",
    "            p.data += -lr * p.grad\n",
    "\n",
    "    return idx_and_loss"
   ]
  },
  {
   "cell_type": "markdown",
   "id": "9859117f-92d6-44c6-a7e7-da952023410b",
   "metadata": {},
   "source": [
    "We can see that when we modify the learning rate, the loss changes at a very different amount. In fact, if we choose the wrong learning rate, we end up with an unstable learning rate."
   ]
  },
  {
   "cell_type": "code",
   "execution_count": 49,
   "id": "394503f8-f2aa-45c5-b1f1-edd0fee89760",
   "metadata": {},
   "outputs": [
    {
     "name": "stdout",
     "output_type": "stream",
     "text": [
      "---Calculating Loss for Learning Rate of 0.1\n",
      "0/200 : Average Loss : 20.99297332763672\n",
      "50/200 : Average Loss : 6.564327716827393\n",
      "100/200 : Average Loss : 4.2535905838012695\n",
      "150/200 : Average Loss : 3.2690165042877197\n",
      "---Calculating Loss for Learning Rate of 1\n",
      "0/200 : Average Loss : 17.47030258178711\n",
      "50/200 : Average Loss : 6.547647476196289\n",
      "100/200 : Average Loss : 8.522148132324219\n",
      "150/200 : Average Loss : 6.128942012786865\n",
      "---Calculating Loss for Learning Rate of 10\n",
      "0/200 : Average Loss : 20.594493865966797\n",
      "50/200 : Average Loss : 100.12458801269531\n",
      "100/200 : Average Loss : 64.8740463256836\n",
      "150/200 : Average Loss : 77.93840026855469\n",
      "---Calculating Loss for Learning Rate of 50\n",
      "0/200 : Average Loss : 19.939647674560547\n",
      "50/200 : Average Loss : 415.4334716796875\n",
      "100/200 : Average Loss : 264.834228515625\n",
      "150/200 : Average Loss : 433.4309387207031\n"
     ]
    }
   ],
   "source": [
    "loss_0_1 = generate_loss_for_lr()\n",
    "loss_1 = generate_loss_for_lr(1)\n",
    "loss_10 = generate_loss_for_lr(10)\n",
    "loss_50 = generate_loss_for_lr(50)"
   ]
  },
  {
   "cell_type": "markdown",
   "id": "bb722038-78e0-43c8-9eee-d4f9c7cc2792",
   "metadata": {},
   "source": [
    "We can do a bit more of a methodological method - using `torch.linspace` to generate exponentially spaced learning rates"
   ]
  },
  {
   "cell_type": "code",
   "execution_count": 50,
   "id": "afad44eb-5a4d-4d65-812d-47cb415cb4e0",
   "metadata": {},
   "outputs": [],
   "source": [
    "lre = torch.linspace(-3, 0, 1000)\n",
    "lrs = 10**lre"
   ]
  },
  {
   "cell_type": "code",
   "execution_count": 51,
   "id": "c92314d0-7469-46dc-8bc7-c63211a33d8a",
   "metadata": {},
   "outputs": [
    {
     "data": {
      "text/plain": [
       "tensor([-3.0000, -2.9970, -2.9940, -2.9910, -2.9880, -2.9850, -2.9820, -2.9790,\n",
       "        -2.9760, -2.9730, -2.9700, -2.9670, -2.9640, -2.9610, -2.9580, -2.9550,\n",
       "        -2.9520, -2.9489, -2.9459, -2.9429, -2.9399, -2.9369, -2.9339, -2.9309,\n",
       "        -2.9279, -2.9249, -2.9219, -2.9189, -2.9159, -2.9129, -2.9099, -2.9069,\n",
       "        -2.9039, -2.9009, -2.8979, -2.8949, -2.8919, -2.8889, -2.8859, -2.8829,\n",
       "        -2.8799, -2.8769, -2.8739, -2.8709, -2.8679, -2.8649, -2.8619, -2.8589,\n",
       "        -2.8559, -2.8529, -2.8498, -2.8468, -2.8438, -2.8408, -2.8378, -2.8348,\n",
       "        -2.8318, -2.8288, -2.8258, -2.8228, -2.8198, -2.8168, -2.8138, -2.8108,\n",
       "        -2.8078, -2.8048, -2.8018, -2.7988, -2.7958, -2.7928, -2.7898, -2.7868,\n",
       "        -2.7838, -2.7808, -2.7778, -2.7748, -2.7718, -2.7688, -2.7658, -2.7628,\n",
       "        -2.7598, -2.7568, -2.7538, -2.7508, -2.7477, -2.7447, -2.7417, -2.7387,\n",
       "        -2.7357, -2.7327, -2.7297, -2.7267, -2.7237, -2.7207, -2.7177, -2.7147,\n",
       "        -2.7117, -2.7087, -2.7057, -2.7027, -2.6997, -2.6967, -2.6937, -2.6907,\n",
       "        -2.6877, -2.6847, -2.6817, -2.6787, -2.6757, -2.6727, -2.6697, -2.6667,\n",
       "        -2.6637, -2.6607, -2.6577, -2.6547, -2.6517, -2.6486, -2.6456, -2.6426,\n",
       "        -2.6396, -2.6366, -2.6336, -2.6306, -2.6276, -2.6246, -2.6216, -2.6186,\n",
       "        -2.6156, -2.6126, -2.6096, -2.6066, -2.6036, -2.6006, -2.5976, -2.5946,\n",
       "        -2.5916, -2.5886, -2.5856, -2.5826, -2.5796, -2.5766, -2.5736, -2.5706,\n",
       "        -2.5676, -2.5646, -2.5616, -2.5586, -2.5556, -2.5526, -2.5495, -2.5465,\n",
       "        -2.5435, -2.5405, -2.5375, -2.5345, -2.5315, -2.5285, -2.5255, -2.5225,\n",
       "        -2.5195, -2.5165, -2.5135, -2.5105, -2.5075, -2.5045, -2.5015, -2.4985,\n",
       "        -2.4955, -2.4925, -2.4895, -2.4865, -2.4835, -2.4805, -2.4775, -2.4745,\n",
       "        -2.4715, -2.4685, -2.4655, -2.4625, -2.4595, -2.4565, -2.4535, -2.4505,\n",
       "        -2.4474, -2.4444, -2.4414, -2.4384, -2.4354, -2.4324, -2.4294, -2.4264,\n",
       "        -2.4234, -2.4204, -2.4174, -2.4144, -2.4114, -2.4084, -2.4054, -2.4024,\n",
       "        -2.3994, -2.3964, -2.3934, -2.3904, -2.3874, -2.3844, -2.3814, -2.3784,\n",
       "        -2.3754, -2.3724, -2.3694, -2.3664, -2.3634, -2.3604, -2.3574, -2.3544,\n",
       "        -2.3514, -2.3483, -2.3453, -2.3423, -2.3393, -2.3363, -2.3333, -2.3303,\n",
       "        -2.3273, -2.3243, -2.3213, -2.3183, -2.3153, -2.3123, -2.3093, -2.3063,\n",
       "        -2.3033, -2.3003, -2.2973, -2.2943, -2.2913, -2.2883, -2.2853, -2.2823,\n",
       "        -2.2793, -2.2763, -2.2733, -2.2703, -2.2673, -2.2643, -2.2613, -2.2583,\n",
       "        -2.2553, -2.2523, -2.2492, -2.2462, -2.2432, -2.2402, -2.2372, -2.2342,\n",
       "        -2.2312, -2.2282, -2.2252, -2.2222, -2.2192, -2.2162, -2.2132, -2.2102,\n",
       "        -2.2072, -2.2042, -2.2012, -2.1982, -2.1952, -2.1922, -2.1892, -2.1862,\n",
       "        -2.1832, -2.1802, -2.1772, -2.1742, -2.1712, -2.1682, -2.1652, -2.1622,\n",
       "        -2.1592, -2.1562, -2.1532, -2.1502, -2.1471, -2.1441, -2.1411, -2.1381,\n",
       "        -2.1351, -2.1321, -2.1291, -2.1261, -2.1231, -2.1201, -2.1171, -2.1141,\n",
       "        -2.1111, -2.1081, -2.1051, -2.1021, -2.0991, -2.0961, -2.0931, -2.0901,\n",
       "        -2.0871, -2.0841, -2.0811, -2.0781, -2.0751, -2.0721, -2.0691, -2.0661,\n",
       "        -2.0631, -2.0601, -2.0571, -2.0541, -2.0511, -2.0480, -2.0450, -2.0420,\n",
       "        -2.0390, -2.0360, -2.0330, -2.0300, -2.0270, -2.0240, -2.0210, -2.0180,\n",
       "        -2.0150, -2.0120, -2.0090, -2.0060, -2.0030, -2.0000, -1.9970, -1.9940,\n",
       "        -1.9910, -1.9880, -1.9850, -1.9820, -1.9790, -1.9760, -1.9730, -1.9700,\n",
       "        -1.9670, -1.9640, -1.9610, -1.9580, -1.9550, -1.9520, -1.9489, -1.9459,\n",
       "        -1.9429, -1.9399, -1.9369, -1.9339, -1.9309, -1.9279, -1.9249, -1.9219,\n",
       "        -1.9189, -1.9159, -1.9129, -1.9099, -1.9069, -1.9039, -1.9009, -1.8979,\n",
       "        -1.8949, -1.8919, -1.8889, -1.8859, -1.8829, -1.8799, -1.8769, -1.8739,\n",
       "        -1.8709, -1.8679, -1.8649, -1.8619, -1.8589, -1.8559, -1.8529, -1.8498,\n",
       "        -1.8468, -1.8438, -1.8408, -1.8378, -1.8348, -1.8318, -1.8288, -1.8258,\n",
       "        -1.8228, -1.8198, -1.8168, -1.8138, -1.8108, -1.8078, -1.8048, -1.8018,\n",
       "        -1.7988, -1.7958, -1.7928, -1.7898, -1.7868, -1.7838, -1.7808, -1.7778,\n",
       "        -1.7748, -1.7718, -1.7688, -1.7658, -1.7628, -1.7598, -1.7568, -1.7538,\n",
       "        -1.7508, -1.7477, -1.7447, -1.7417, -1.7387, -1.7357, -1.7327, -1.7297,\n",
       "        -1.7267, -1.7237, -1.7207, -1.7177, -1.7147, -1.7117, -1.7087, -1.7057,\n",
       "        -1.7027, -1.6997, -1.6967, -1.6937, -1.6907, -1.6877, -1.6847, -1.6817,\n",
       "        -1.6787, -1.6757, -1.6727, -1.6697, -1.6667, -1.6637, -1.6607, -1.6577,\n",
       "        -1.6547, -1.6517, -1.6486, -1.6456, -1.6426, -1.6396, -1.6366, -1.6336,\n",
       "        -1.6306, -1.6276, -1.6246, -1.6216, -1.6186, -1.6156, -1.6126, -1.6096,\n",
       "        -1.6066, -1.6036, -1.6006, -1.5976, -1.5946, -1.5916, -1.5886, -1.5856,\n",
       "        -1.5826, -1.5796, -1.5766, -1.5736, -1.5706, -1.5676, -1.5646, -1.5616,\n",
       "        -1.5586, -1.5556, -1.5526, -1.5495, -1.5465, -1.5435, -1.5405, -1.5375,\n",
       "        -1.5345, -1.5315, -1.5285, -1.5255, -1.5225, -1.5195, -1.5165, -1.5135,\n",
       "        -1.5105, -1.5075, -1.5045, -1.5015, -1.4985, -1.4955, -1.4925, -1.4895,\n",
       "        -1.4865, -1.4835, -1.4805, -1.4775, -1.4745, -1.4715, -1.4685, -1.4655,\n",
       "        -1.4625, -1.4595, -1.4565, -1.4535, -1.4505, -1.4474, -1.4444, -1.4414,\n",
       "        -1.4384, -1.4354, -1.4324, -1.4294, -1.4264, -1.4234, -1.4204, -1.4174,\n",
       "        -1.4144, -1.4114, -1.4084, -1.4054, -1.4024, -1.3994, -1.3964, -1.3934,\n",
       "        -1.3904, -1.3874, -1.3844, -1.3814, -1.3784, -1.3754, -1.3724, -1.3694,\n",
       "        -1.3664, -1.3634, -1.3604, -1.3574, -1.3544, -1.3514, -1.3483, -1.3453,\n",
       "        -1.3423, -1.3393, -1.3363, -1.3333, -1.3303, -1.3273, -1.3243, -1.3213,\n",
       "        -1.3183, -1.3153, -1.3123, -1.3093, -1.3063, -1.3033, -1.3003, -1.2973,\n",
       "        -1.2943, -1.2913, -1.2883, -1.2853, -1.2823, -1.2793, -1.2763, -1.2733,\n",
       "        -1.2703, -1.2673, -1.2643, -1.2613, -1.2583, -1.2553, -1.2523, -1.2492,\n",
       "        -1.2462, -1.2432, -1.2402, -1.2372, -1.2342, -1.2312, -1.2282, -1.2252,\n",
       "        -1.2222, -1.2192, -1.2162, -1.2132, -1.2102, -1.2072, -1.2042, -1.2012,\n",
       "        -1.1982, -1.1952, -1.1922, -1.1892, -1.1862, -1.1832, -1.1802, -1.1772,\n",
       "        -1.1742, -1.1712, -1.1682, -1.1652, -1.1622, -1.1592, -1.1562, -1.1532,\n",
       "        -1.1502, -1.1471, -1.1441, -1.1411, -1.1381, -1.1351, -1.1321, -1.1291,\n",
       "        -1.1261, -1.1231, -1.1201, -1.1171, -1.1141, -1.1111, -1.1081, -1.1051,\n",
       "        -1.1021, -1.0991, -1.0961, -1.0931, -1.0901, -1.0871, -1.0841, -1.0811,\n",
       "        -1.0781, -1.0751, -1.0721, -1.0691, -1.0661, -1.0631, -1.0601, -1.0571,\n",
       "        -1.0541, -1.0511, -1.0480, -1.0450, -1.0420, -1.0390, -1.0360, -1.0330,\n",
       "        -1.0300, -1.0270, -1.0240, -1.0210, -1.0180, -1.0150, -1.0120, -1.0090,\n",
       "        -1.0060, -1.0030, -1.0000, -0.9970, -0.9940, -0.9910, -0.9880, -0.9850,\n",
       "        -0.9820, -0.9790, -0.9760, -0.9730, -0.9700, -0.9670, -0.9640, -0.9610,\n",
       "        -0.9580, -0.9550, -0.9520, -0.9489, -0.9459, -0.9429, -0.9399, -0.9369,\n",
       "        -0.9339, -0.9309, -0.9279, -0.9249, -0.9219, -0.9189, -0.9159, -0.9129,\n",
       "        -0.9099, -0.9069, -0.9039, -0.9009, -0.8979, -0.8949, -0.8919, -0.8889,\n",
       "        -0.8859, -0.8829, -0.8799, -0.8769, -0.8739, -0.8709, -0.8679, -0.8649,\n",
       "        -0.8619, -0.8589, -0.8559, -0.8529, -0.8498, -0.8468, -0.8438, -0.8408,\n",
       "        -0.8378, -0.8348, -0.8318, -0.8288, -0.8258, -0.8228, -0.8198, -0.8168,\n",
       "        -0.8138, -0.8108, -0.8078, -0.8048, -0.8018, -0.7988, -0.7958, -0.7928,\n",
       "        -0.7898, -0.7868, -0.7838, -0.7808, -0.7778, -0.7748, -0.7718, -0.7688,\n",
       "        -0.7658, -0.7628, -0.7598, -0.7568, -0.7538, -0.7508, -0.7477, -0.7447,\n",
       "        -0.7417, -0.7387, -0.7357, -0.7327, -0.7297, -0.7267, -0.7237, -0.7207,\n",
       "        -0.7177, -0.7147, -0.7117, -0.7087, -0.7057, -0.7027, -0.6997, -0.6967,\n",
       "        -0.6937, -0.6907, -0.6877, -0.6847, -0.6817, -0.6787, -0.6757, -0.6727,\n",
       "        -0.6697, -0.6667, -0.6637, -0.6607, -0.6577, -0.6547, -0.6517, -0.6486,\n",
       "        -0.6456, -0.6426, -0.6396, -0.6366, -0.6336, -0.6306, -0.6276, -0.6246,\n",
       "        -0.6216, -0.6186, -0.6156, -0.6126, -0.6096, -0.6066, -0.6036, -0.6006,\n",
       "        -0.5976, -0.5946, -0.5916, -0.5886, -0.5856, -0.5826, -0.5796, -0.5766,\n",
       "        -0.5736, -0.5706, -0.5676, -0.5646, -0.5616, -0.5586, -0.5556, -0.5526,\n",
       "        -0.5495, -0.5465, -0.5435, -0.5405, -0.5375, -0.5345, -0.5315, -0.5285,\n",
       "        -0.5255, -0.5225, -0.5195, -0.5165, -0.5135, -0.5105, -0.5075, -0.5045,\n",
       "        -0.5015, -0.4985, -0.4955, -0.4925, -0.4895, -0.4865, -0.4835, -0.4805,\n",
       "        -0.4775, -0.4745, -0.4715, -0.4685, -0.4655, -0.4625, -0.4595, -0.4565,\n",
       "        -0.4535, -0.4505, -0.4474, -0.4444, -0.4414, -0.4384, -0.4354, -0.4324,\n",
       "        -0.4294, -0.4264, -0.4234, -0.4204, -0.4174, -0.4144, -0.4114, -0.4084,\n",
       "        -0.4054, -0.4024, -0.3994, -0.3964, -0.3934, -0.3904, -0.3874, -0.3844,\n",
       "        -0.3814, -0.3784, -0.3754, -0.3724, -0.3694, -0.3664, -0.3634, -0.3604,\n",
       "        -0.3574, -0.3544, -0.3514, -0.3483, -0.3453, -0.3423, -0.3393, -0.3363,\n",
       "        -0.3333, -0.3303, -0.3273, -0.3243, -0.3213, -0.3183, -0.3153, -0.3123,\n",
       "        -0.3093, -0.3063, -0.3033, -0.3003, -0.2973, -0.2943, -0.2913, -0.2883,\n",
       "        -0.2853, -0.2823, -0.2793, -0.2763, -0.2733, -0.2703, -0.2673, -0.2643,\n",
       "        -0.2613, -0.2583, -0.2553, -0.2523, -0.2492, -0.2462, -0.2432, -0.2402,\n",
       "        -0.2372, -0.2342, -0.2312, -0.2282, -0.2252, -0.2222, -0.2192, -0.2162,\n",
       "        -0.2132, -0.2102, -0.2072, -0.2042, -0.2012, -0.1982, -0.1952, -0.1922,\n",
       "        -0.1892, -0.1862, -0.1832, -0.1802, -0.1772, -0.1742, -0.1712, -0.1682,\n",
       "        -0.1652, -0.1622, -0.1592, -0.1562, -0.1532, -0.1502, -0.1471, -0.1441,\n",
       "        -0.1411, -0.1381, -0.1351, -0.1321, -0.1291, -0.1261, -0.1231, -0.1201,\n",
       "        -0.1171, -0.1141, -0.1111, -0.1081, -0.1051, -0.1021, -0.0991, -0.0961,\n",
       "        -0.0931, -0.0901, -0.0871, -0.0841, -0.0811, -0.0781, -0.0751, -0.0721,\n",
       "        -0.0691, -0.0661, -0.0631, -0.0601, -0.0571, -0.0541, -0.0511, -0.0480,\n",
       "        -0.0450, -0.0420, -0.0390, -0.0360, -0.0330, -0.0300, -0.0270, -0.0240,\n",
       "        -0.0210, -0.0180, -0.0150, -0.0120, -0.0090, -0.0060, -0.0030,  0.0000])"
      ]
     },
     "execution_count": 51,
     "metadata": {},
     "output_type": "execute_result"
    }
   ],
   "source": [
    "lre"
   ]
  },
  {
   "cell_type": "markdown",
   "id": "f7633141-5318-4e4d-958d-8c6ab302721e",
   "metadata": {},
   "source": [
    "Let's see how this might work in practice"
   ]
  },
  {
   "cell_type": "code",
   "execution_count": 52,
   "id": "67ad8ef6-da01-4a41-9e85-d66cc6f36f29",
   "metadata": {},
   "outputs": [],
   "source": [
    "g = torch.Generator().manual_seed(2147483647) # for reproducibility\n",
    "C = torch.randn((27, 2), generator=g)\n",
    "W1 = torch.randn((6, 100), generator=g)\n",
    "b1 = torch.randn(100, generator=g)\n",
    "W2 = torch.randn((100, 27), generator=g)\n",
    "b2 = torch.randn(27, generator=g)\n",
    "parameters = [C, W1, b1, W2, b2]\n",
    "\n",
    "for p in parameters:\n",
    "  p.requires_grad = True"
   ]
  },
  {
   "cell_type": "code",
   "execution_count": 53,
   "id": "a0d4c292-1a8c-4af9-8321-8268eb2309c5",
   "metadata": {},
   "outputs": [],
   "source": [
    "lri = []\n",
    "lossi = []\n",
    "\n",
    "for idx in range(1000):\n",
    "    ix = torch.randint(0,X.shape[0],(32,))\n",
    "    emb = C[X[ix]]\n",
    "    h = torch.tanh(emb.view(-1,6)@W1+b1)\n",
    "    logits = h @ W2 + b2\n",
    "\n",
    "    for p in parameters:\n",
    "        p.grad = None\n",
    "    \n",
    "    loss = F.cross_entropy(logits,Y[ix])\n",
    "    loss.backward()\n",
    "\n",
    "    lr = lrs[idx]\n",
    "    for p in parameters:\n",
    "        p.data += -lr * p.grad\n",
    "\n",
    "    \n",
    "    lri.append(lr)\n",
    "    lossi.append(loss.item())\n",
    "    "
   ]
  },
  {
   "cell_type": "code",
   "execution_count": 54,
   "id": "1591fde3-4903-4413-a86f-a0ba4e206794",
   "metadata": {},
   "outputs": [
    {
     "data": {
      "text/plain": [
       "[<matplotlib.lines.Line2D at 0x121c1a170>]"
      ]
     },
     "execution_count": 54,
     "metadata": {},
     "output_type": "execute_result"
    },
    {
     "data": {
      "image/png": "[encoded data removed]",
      "text/plain": [
       "<Figure size 640x480 with 1 Axes>"
      ]
     },
     "metadata": {},
     "output_type": "display_data"
    }
   ],
   "source": [
    "plt.plot(lri,lossi)"
   ]
  },
  {
   "cell_type": "code",
   "execution_count": 55,
   "id": "defcddad-8222-49f7-ba49-41e83816f525",
   "metadata": {},
   "outputs": [
    {
     "data": {
      "text/plain": [
       "[<matplotlib.lines.Line2D at 0x121aaee90>]"
      ]
     },
     "execution_count": 55,
     "metadata": {},
     "output_type": "execute_result"
    },
    {
     "data": {
      "image/png": "[encoded data removed]",
      "text/plain": [
       "<Figure size 640x480 with 1 Axes>"
      ]
     },
     "metadata": {},
     "output_type": "display_data"
    }
   ],
   "source": [
    "plt.plot(lre,lossi)"
   ]
  },
  {
   "cell_type": "markdown",
   "id": "77d312e5-e47e-4d12-9ff6-da696fa35a6e",
   "metadata": {},
   "source": [
    "Seems like our learning rate is best around $10^{-1}$ which was our initial learning rate."
   ]
  },
  {
   "cell_type": "markdown",
   "id": "2d0968cc-5322-4907-b809-d915f07ae41f",
   "metadata": {},
   "source": [
    "## Learning Rate Decay\n",
    "\n",
    "We can use our optimized learning rate and then start using a significantly lower learning rate after you've trained using this optimized learning rate for a while.\n",
    "\n",
    "In this case, we can implement it by simply reducing our learning rate by a factor of 10 every 10000 steps"
   ]
  },
  {
   "cell_type": "code",
   "execution_count": 58,
   "id": "60110254-dc48-47b0-b835-5e0fdd37f375",
   "metadata": {},
   "outputs": [],
   "source": [
    "import math"
   ]
  },
  {
   "cell_type": "code",
   "execution_count": 63,
   "id": "a922269f-6891-4737-9469-547503f5e573",
   "metadata": {},
   "outputs": [],
   "source": [
    "g = torch.Generator().manual_seed(2147483647) # for reproducibility\n",
    "C = torch.randn((27, 2), generator=g)\n",
    "W1 = torch.randn((6, 100), generator=g)\n",
    "b1 = torch.randn(100, generator=g)\n",
    "W2 = torch.randn((100, 27), generator=g)\n",
    "b2 = torch.randn(27, generator=g)\n",
    "parameters = [C, W1, b1, W2, b2]\n",
    "\n",
    "for p in parameters:\n",
    "  p.requires_grad = True\n",
    "\n",
    "lri = []\n",
    "lossi = []\n",
    "\n",
    "epochs = 80000\n",
    "introduce_decay = 0.5\n",
    "\n",
    "for idx in range(epochs):\n",
    "    ix = torch.randint(0,X.shape[0],(32,))\n",
    "    emb = C[X[ix]]\n",
    "    h = torch.tanh(emb.view(-1,6)@W1+b1)\n",
    "    logits = h @ W2 + b2\n",
    "\n",
    "    for p in parameters:\n",
    "        p.grad = None\n",
    "    \n",
    "    loss = F.cross_entropy(logits,Y[ix])\n",
    "    loss.backward()\n",
    "\n",
    "    lr = 0.1 if idx < math.floor(introduce_decay*epochs) else 0.01\n",
    "    for p in parameters:\n",
    "        p.data += -lr * p.grad\n",
    "\n",
    "    \n",
    "    lri.append(lr)\n",
    "    lossi.append(loss.item())\n",
    "    "
   ]
  },
  {
   "cell_type": "code",
   "execution_count": 64,
   "id": "bd017959-f7ce-47bc-bc04-c773ad365d62",
   "metadata": {},
   "outputs": [
    {
     "data": {
      "text/plain": [
       "[<matplotlib.lines.Line2D at 0x126a62530>]"
      ]
     },
     "execution_count": 64,
     "metadata": {},
     "output_type": "execute_result"
    },
    {
     "data": {
      "image/png": "[encoded data removed]",
      "text/plain": [
       "<Figure size 640x480 with 1 Axes>"
      ]
     },
     "metadata": {},
     "output_type": "display_data"
    }
   ],
   "source": [
    "plt.plot([i for i in range(epochs)],lossi)"
   ]
  },
  {
   "cell_type": "code",
   "execution_count": 65,
   "id": "399db9be-4684-4836-aae5-671814f024da",
   "metadata": {},
   "outputs": [
    {
     "data": {
      "text/plain": [
       "2.1371371746063232"
      ]
     },
     "execution_count": 65,
     "metadata": {},
     "output_type": "execute_result"
    }
   ],
   "source": [
    "loss.item()"
   ]
  },
  {
   "cell_type": "markdown",
   "id": "cb1a01a4-04d6-4e45-b0d2-df86292c4ff6",
   "metadata": {},
   "source": [
    "## Test, Train, Validation\n",
    "\n",
    "Often times, as we train our model, we risk overfitting onto the training data set. This happens because with enough epochs, our model will start to memorize the data that it has been given.\n",
    "\n",
    "As a result, we normally divide our datasets into a test-train set so that we do not overfit onto the training data. Ideally we test sparingly on our test dataset so we don't risk training on the test dataset."
   ]
  },
  {
   "cell_type": "markdown",
   "id": "215ea8da-22a5-412d-9915-84037acaf1f5",
   "metadata": {},
   "source": [
    "Let's first create our train, test , validation split"
   ]
  },
  {
   "cell_type": "code",
   "execution_count": 67,
   "id": "e8741ee6-d6aa-4ced-b9d7-93b0e77d9691",
   "metadata": {},
   "outputs": [
    {
     "name": "stdout",
     "output_type": "stream",
     "text": [
      "torch.Size([182625, 3]) torch.Size([182625])\n",
      "torch.Size([22655, 3]) torch.Size([22655])\n",
      "torch.Size([22866, 3]) torch.Size([22866])\n"
     ]
    }
   ],
   "source": [
    "def build_dataset(words):  \n",
    "  X, Y = [], []\n",
    "  for w in words:\n",
    "\n",
    "    #print(w)\n",
    "    context = [0] * block_size\n",
    "    for ch in w + '.':\n",
    "      ix = stoi[ch]\n",
    "      X.append(context)\n",
    "      Y.append(ix)\n",
    "      #print(''.join(itos[i] for i in context), '--->', itos[ix])\n",
    "      context = context[1:] + [ix] # crop and append\n",
    "\n",
    "  X = torch.tensor(X)\n",
    "  Y = torch.tensor(Y)\n",
    "  print(X.shape, Y.shape)\n",
    "  return X, Y\n",
    "\n",
    "random.seed(42)\n",
    "random.shuffle(words)\n",
    "n1 = int(0.8*len(words))\n",
    "n2 = int(0.9*len(words))\n",
    "\n",
    "Xtr, Ytr = build_dataset(words[:n1])\n",
    "Xdev, Ydev = build_dataset(words[n1:n2])\n",
    "Xte, Yte = build_dataset(words[n2:])"
   ]
  },
  {
   "cell_type": "code",
   "execution_count": 79,
   "id": "fe6f217c-7814-4edc-94f4-dd8765c6b3c7",
   "metadata": {},
   "outputs": [],
   "source": [
    "g = torch.Generator().manual_seed(2147483647) # for reproducibility\n",
    "C = torch.randn((27, 2), generator=g)\n",
    "W1 = torch.randn((6, 100), generator=g)\n",
    "b1 = torch.randn(100, generator=g)\n",
    "W2 = torch.randn((100, 27), generator=g)\n",
    "b2 = torch.randn(27, generator=g)\n",
    "parameters = [C, W1, b1, W2, b2]\n",
    "\n",
    "for p in parameters:\n",
    "  p.requires_grad = True"
   ]
  },
  {
   "cell_type": "code",
   "execution_count": 80,
   "id": "7c6425cf-a388-4cd8-9dcf-3a5b9e8ee544",
   "metadata": {},
   "outputs": [],
   "source": [
    "lri = []\n",
    "lossi = []\n",
    "\n",
    "epochs = 80000\n",
    "introduce_decay = 0.5\n",
    "\n",
    "for idx in range(epochs):\n",
    "    ix = torch.randint(0,Xtr.shape[0],(32,))\n",
    "    emb = C[Xtr[ix]]\n",
    "    h = torch.tanh(emb.view(-1,6)@W1+b1)\n",
    "    logits = h @ W2 + b2\n",
    "\n",
    "    for p in parameters:\n",
    "        p.grad = None\n",
    "    \n",
    "    loss = F.cross_entropy(logits,Ytr[ix])\n",
    "    loss.backward()\n",
    "\n",
    "    lr = 0.1 if idx < math.floor(introduce_decay*epochs) else 0.01\n",
    "    for p in parameters:\n",
    "        p.data += -lr * p.grad\n",
    "\n",
    "    \n",
    "    lri.append(lr)\n",
    "    lossi.append(loss.item())\n",
    "    "
   ]
  },
  {
   "cell_type": "code",
   "execution_count": 81,
   "id": "64d81014-3077-4872-8c59-ae39b1fbbd16",
   "metadata": {},
   "outputs": [
    {
     "data": {
      "text/plain": [
       "[<matplotlib.lines.Line2D at 0x12708d2a0>]"
      ]
     },
     "execution_count": 81,
     "metadata": {},
     "output_type": "execute_result"
    },
    {
     "data": {
      "image/png": "[encoded data removed]",
      "text/plain": [
       "<Figure size 640x480 with 1 Axes>"
      ]
     },
     "metadata": {},
     "output_type": "display_data"
    }
   ],
   "source": [
    "plt.plot([i for i in range(epochs)], lossi)\n"
   ]
  },
  {
   "cell_type": "markdown",
   "id": "a2ec977d-f64f-4af2-89f7-dd5d0a0f175b",
   "metadata": {},
   "source": [
    "We can validate that our model is not overfitting on the training dataset by comparing the loss on the training dataset and the validation dataset."
   ]
  },
  {
   "cell_type": "code",
   "execution_count": 83,
   "id": "98a918c7-ab28-4b79-945b-d24e251cc2b0",
   "metadata": {},
   "outputs": [
    {
     "data": {
      "text/plain": [
       "tensor(2.2969, grad_fn=<NllLossBackward0>)"
      ]
     },
     "execution_count": 83,
     "metadata": {},
     "output_type": "execute_result"
    }
   ],
   "source": [
    "# Training Data set\n",
    "\n",
    "emb = C[Xtr] # (32, 3, 2)\n",
    "h = torch.tanh(emb.view(-1, 6) @ W1 + b1) # (32, 100)\n",
    "logits = h @ W2 + b2 # (32, 27)\n",
    "loss = F.cross_entropy(logits, Ytr)\n",
    "loss"
   ]
  },
  {
   "cell_type": "code",
   "execution_count": 84,
   "id": "1437d640-f275-452a-922e-38a26e292ffd",
   "metadata": {},
   "outputs": [
    {
     "data": {
      "text/plain": [
       "tensor(2.2990, grad_fn=<NllLossBackward0>)"
      ]
     },
     "execution_count": 84,
     "metadata": {},
     "output_type": "execute_result"
    }
   ],
   "source": [
    "# Validation Data set\n",
    "\n",
    "emb = C[Xdev] # (32, 3, 2)\n",
    "h = torch.tanh(emb.view(-1, 6) @ W1 + b1) # (32, 100)\n",
    "logits = h @ W2 + b2 # (32, 27)\n",
    "loss = F.cross_entropy(logits, Ydev)\n",
    "loss"
   ]
  },
  {
   "cell_type": "markdown",
   "id": "e265509d-f3f2-4640-b070-31585c492c7e",
   "metadata": {},
   "source": [
    "# Model Architecture Changes"
   ]
  },
  {
   "cell_type": "markdown",
   "id": "f089c320-9196-40c4-a280-72071db3d1c7",
   "metadata": {},
   "source": [
    "## Changing Hidden Layer Size\n",
    "\n",
    "Our model has only 11897 parameters and hence it will not be powerful enough to deal with the machine learning problem. Hence, we increase the size of the hidden layer so that it can do more."
   ]
  },
  {
   "cell_type": "code",
   "execution_count": 85,
   "id": "7fc0eb03-6d52-4ec5-9bf7-933c8895b845",
   "metadata": {},
   "outputs": [],
   "source": [
    "g = torch.Generator().manual_seed(2147483647) # for reproducibility\n",
    "C = torch.randn((27, 2), generator=g)\n",
    "W1 = torch.randn((6, 300), generator=g)\n",
    "b1 = torch.randn(300, generator=g)\n",
    "W2 = torch.randn((300, 27), generator=g)\n",
    "b2 = torch.randn(27, generator=g)\n",
    "parameters = [C, W1, b1, W2, b2]\n",
    "\n",
    "for p in parameters:\n",
    "  p.requires_grad = True"
   ]
  },
  {
   "cell_type": "code",
   "execution_count": 86,
   "id": "2973494d-e935-4dde-a947-d9ee2de0c536",
   "metadata": {},
   "outputs": [],
   "source": [
    "lri = []\n",
    "lossi = []\n",
    "\n",
    "epochs = 80000\n",
    "introduce_decay = 0.5\n",
    "\n",
    "for idx in range(epochs):\n",
    "    ix = torch.randint(0,Xtr.shape[0],(32,))\n",
    "    emb = C[Xtr[ix]]\n",
    "    h = torch.tanh(emb.view(-1,6)@W1+b1)\n",
    "    logits = h @ W2 + b2\n",
    "\n",
    "    for p in parameters:\n",
    "        p.grad = None\n",
    "    \n",
    "    loss = F.cross_entropy(logits,Ytr[ix])\n",
    "    loss.backward()\n",
    "\n",
    "    lr = 0.1 if idx < math.floor(introduce_decay*epochs) else 0.01\n",
    "    for p in parameters:\n",
    "        p.data += -lr * p.grad\n",
    "\n",
    "    \n",
    "    lri.append(lr)\n",
    "    lossi.append(loss.item())\n",
    "    "
   ]
  },
  {
   "cell_type": "code",
   "execution_count": 87,
   "id": "0dae0b12-86aa-49f5-92fe-f3e6049ea9e9",
   "metadata": {},
   "outputs": [
    {
     "data": {
      "text/plain": [
       "[<matplotlib.lines.Line2D at 0x127225f30>]"
      ]
     },
     "execution_count": 87,
     "metadata": {},
     "output_type": "execute_result"
    },
    {
     "data": {
      "image/png": "[encoded data removed]",
      "text/plain": [
       "<Figure size 640x480 with 1 Axes>"
      ]
     },
     "metadata": {},
     "output_type": "display_data"
    }
   ],
   "source": [
    "plt.plot([i for i in range(epochs)], lossi)"
   ]
  },
  {
   "cell_type": "code",
   "execution_count": 88,
   "id": "13db5254-8452-4375-b8b6-e8a19c3d57d1",
   "metadata": {},
   "outputs": [
    {
     "data": {
      "text/plain": [
       "tensor(2.2892, grad_fn=<NllLossBackward0>)"
      ]
     },
     "execution_count": 88,
     "metadata": {},
     "output_type": "execute_result"
    }
   ],
   "source": [
    "# Training Data set\n",
    "\n",
    "emb = C[Xtr] # (32, 3, 2)\n",
    "h = torch.tanh(emb.view(-1, 6) @ W1 + b1) # (32, 100)\n",
    "logits = h @ W2 + b2 # (32, 27)\n",
    "loss = F.cross_entropy(logits, Ytr)\n",
    "loss"
   ]
  },
  {
   "cell_type": "code",
   "execution_count": 89,
   "id": "05e60478-1755-4daa-bb96-f5c25e59188d",
   "metadata": {},
   "outputs": [
    {
     "data": {
      "text/plain": [
       "tensor(2.2907, grad_fn=<NllLossBackward0>)"
      ]
     },
     "execution_count": 89,
     "metadata": {},
     "output_type": "execute_result"
    }
   ],
   "source": [
    "# Validation Data set\n",
    "\n",
    "emb = C[Xdev] # (32, 3, 2)\n",
    "h = torch.tanh(emb.view(-1, 6) @ W1 + b1) # (32, 100)\n",
    "logits = h @ W2 + b2 # (32, 27)\n",
    "loss = F.cross_entropy(logits, Ydev)\n",
    "loss"
   ]
  },
  {
   "cell_type": "markdown",
   "id": "d5c1af33-ead2-4dae-bfcc-03b40bfb0d85",
   "metadata": {},
   "source": [
    "It turns out the neural net has comparable performance even with the increased hidden layer size. We might be able to get a better result if we train more. So let's run it a few more iterations"
   ]
  },
  {
   "cell_type": "code",
   "execution_count": 90,
   "id": "b94fabc3-4e58-4b89-98ab-5636302a2b6b",
   "metadata": {},
   "outputs": [],
   "source": [
    "epochs = 30000\n",
    "introduce_decay = 0.8\n",
    "\n",
    "for idx in range(epochs):\n",
    "    ix = torch.randint(0,Xtr.shape[0],(32,))\n",
    "    emb = C[Xtr[ix]]\n",
    "    h = torch.tanh(emb.view(-1,6)@W1+b1)\n",
    "    logits = h @ W2 + b2\n",
    "\n",
    "    for p in parameters:\n",
    "        p.grad = None\n",
    "    \n",
    "    loss = F.cross_entropy(logits,Ytr[ix])\n",
    "    loss.backward()\n",
    "\n",
    "    lr = 0.1 if idx < math.floor(introduce_decay*epochs) else 0.01\n",
    "    for p in parameters:\n",
    "        p.data += -lr * p.grad\n",
    "\n",
    "    \n",
    "    lri.append(lr)\n",
    "    lossi.append(loss.item())"
   ]
  },
  {
   "cell_type": "code",
   "execution_count": 91,
   "id": "62766d66-4f3a-49fd-9d6a-4bdcd9000129",
   "metadata": {},
   "outputs": [
    {
     "data": {
      "text/plain": [
       "tensor(2.2583, grad_fn=<NllLossBackward0>)"
      ]
     },
     "execution_count": 91,
     "metadata": {},
     "output_type": "execute_result"
    }
   ],
   "source": [
    "# Training Data set\n",
    "\n",
    "emb = C[Xtr] # (32, 3, 2)\n",
    "h = torch.tanh(emb.view(-1, 6) @ W1 + b1) # (32, 100)\n",
    "logits = h @ W2 + b2 # (32, 27)\n",
    "loss = F.cross_entropy(logits, Ytr)\n",
    "loss"
   ]
  },
  {
   "cell_type": "code",
   "execution_count": 92,
   "id": "55b410c3-8323-4ada-978b-1898bdbb39b1",
   "metadata": {},
   "outputs": [
    {
     "data": {
      "text/plain": [
       "tensor(2.2657, grad_fn=<NllLossBackward0>)"
      ]
     },
     "execution_count": 92,
     "metadata": {},
     "output_type": "execute_result"
    }
   ],
   "source": [
    "# Validation Data set\n",
    "\n",
    "emb = C[Xdev] # (32, 3, 2)\n",
    "h = torch.tanh(emb.view(-1, 6) @ W1 + b1) # (32, 100)\n",
    "logits = h @ W2 + b2 # (32, 27)\n",
    "loss = F.cross_entropy(logits, Ydev)\n",
    "loss"
   ]
  },
  {
   "cell_type": "markdown",
   "id": "27d256f9-001b-415d-86bf-de59973539c3",
   "metadata": {},
   "source": [
    "## Embedding Size Changes"
   ]
  },
  {
   "cell_type": "markdown",
   "id": "012ea427-16da-46ea-af94-080c689e6257",
   "metadata": {},
   "source": [
    "We now increase the embedding dimensionality so that we can see if that gets a better result. Let's first see what our model has learnt about the characters"
   ]
  },
  {
   "cell_type": "code",
   "execution_count": 93,
   "id": "1cefcae4-d5c6-4672-9128-fb1f2ae37a31",
   "metadata": {},
   "outputs": [
    {
     "data": {
      "image/png": "[encoded data removed]",
      "text/plain": [
       "<Figure size 800x800 with 1 Axes>"
      ]
     },
     "metadata": {},
     "output_type": "display_data"
    }
   ],
   "source": [
    "plt.figure(figsize=(8,8))\n",
    "plt.scatter(C[:,0].data, C[:,1].data, s=200)\n",
    "for i in range(C.shape[0]):\n",
    "    plt.text(C[i,0].item(), C[i,1].item(), itos[i], ha=\"center\", va=\"center\", color='white')\n",
    "plt.grid('minor')"
   ]
  },
  {
   "cell_type": "markdown",
   "id": "953bbe3b-d9f0-4791-9b17-ad691c04dfe6",
   "metadata": {},
   "source": [
    "It seems like the model has learnt that the vowels - a,e,i,o and u are quite similar to one another and are more intercharngable versus say r. Let's now try using our earlier model with a larger hidden layer and a larger embedding size"
   ]
  },
  {
   "cell_type": "code",
   "execution_count": 106,
   "id": "bdcb12b5-213a-46f4-bde6-04e5e20a65a9",
   "metadata": {},
   "outputs": [],
   "source": [
    "g = torch.Generator().manual_seed(2147483647) # for reproducibility\n",
    "C = torch.randn((27, 10), generator=g)\n",
    "W1 = torch.randn((30, 300), generator=g)\n",
    "b1 = torch.randn(300, generator=g)\n",
    "W2 = torch.randn((300, 27), generator=g)\n",
    "b2 = torch.randn(27, generator=g)\n",
    "parameters = [C, W1, b1, W2, b2]\n",
    "\n",
    "for p in parameters:\n",
    "  p.requires_grad = True"
   ]
  },
  {
   "cell_type": "code",
   "execution_count": 107,
   "id": "3349c4e0-e666-4adb-a527-bb3ca89ea5b1",
   "metadata": {},
   "outputs": [],
   "source": [
    "lri = []\n",
    "lossi = []\n",
    "log_lossi = []\n",
    "epochs = 100000\n",
    "introduce_decay = 0.8\n",
    "\n",
    "for idx in range(epochs):\n",
    "    ix = torch.randint(0,Xtr.shape[0],(32,))\n",
    "    emb = C[Xtr[ix]]\n",
    "    h = torch.tanh(emb.view(-1,30)@W1+b1)\n",
    "    logits = h @ W2 + b2\n",
    "\n",
    "    for p in parameters:\n",
    "        p.grad = None\n",
    "    \n",
    "    loss = F.cross_entropy(logits,Ytr[ix])\n",
    "    loss.backward()\n",
    "\n",
    "    lr = 0.1 if idx < math.floor(introduce_decay*epochs) else 0.01\n",
    "    for p in parameters:\n",
    "        p.data += -lr * p.grad\n",
    "\n",
    "    \n",
    "    lri.append(lr)\n",
    "    lossi.append(loss.item())\n",
    "    log_lossi.append(loss.log10().item())\n",
    "    "
   ]
  },
  {
   "cell_type": "code",
   "execution_count": 108,
   "id": "4495ddfa-d59b-4943-a9f8-9799f8a41a2a",
   "metadata": {},
   "outputs": [
    {
     "data": {
      "text/plain": [
       "[<matplotlib.lines.Line2D at 0x12781b3a0>]"
      ]
     },
     "execution_count": 108,
     "metadata": {},
     "output_type": "execute_result"
    },
    {
     "data": {
      "image/png": "[encoded data removed]",
      "text/plain": [
       "<Figure size 640x480 with 1 Axes>"
      ]
     },
     "metadata": {},
     "output_type": "display_data"
    }
   ],
   "source": [
    "plt.plot([i for i in range(epochs)], lossi)"
   ]
  },
  {
   "cell_type": "markdown",
   "id": "616527b2-d89a-4e8f-90cc-fdd399e716ab",
   "metadata": {},
   "source": [
    "You'll notice that when we plot the loss, we tend to have a hockey stick like appearance. This isn't ideal, so let's try to plot our log loss instead"
   ]
  },
  {
   "cell_type": "code",
   "execution_count": 109,
   "id": "5c8f47ad-0ad6-4c99-8e54-19f8e489682d",
   "metadata": {},
   "outputs": [
    {
     "data": {
      "text/plain": [
       "[<matplotlib.lines.Line2D at 0x126ce9900>]"
      ]
     },
     "execution_count": 109,
     "metadata": {},
     "output_type": "execute_result"
    },
    {
     "data": {
      "image/png": "[encoded data removed]",
      "text/plain": [
       "<Figure size 640x480 with 1 Axes>"
      ]
     },
     "metadata": {},
     "output_type": "display_data"
    }
   ],
   "source": [
    "plt.plot([i for i in range(epochs)], log_lossi)"
   ]
  },
  {
   "cell_type": "code",
   "execution_count": 104,
   "id": "798b5766-a75c-4c3b-be95-8455a4426934",
   "metadata": {},
   "outputs": [
    {
     "data": {
      "text/plain": [
       "tensor(2.0890, grad_fn=<NllLossBackward0>)"
      ]
     },
     "execution_count": 104,
     "metadata": {},
     "output_type": "execute_result"
    }
   ],
   "source": [
    "# Training Data set\n",
    "\n",
    "emb = C[Xtr] # (32, 3, 2)\n",
    "h = torch.tanh(emb.view(-1, 30) @ W1 + b1) # (32, 100)\n",
    "logits = h @ W2 + b2 # (32, 27)\n",
    "loss = F.cross_entropy(logits, Ytr)\n",
    "loss"
   ]
  },
  {
   "cell_type": "code",
   "execution_count": 105,
   "id": "8ec23b6e-00f1-4c3e-83e4-4bbfa5000dfc",
   "metadata": {},
   "outputs": [
    {
     "data": {
      "text/plain": [
       "tensor(2.1691, grad_fn=<NllLossBackward0>)"
      ]
     },
     "execution_count": 105,
     "metadata": {},
     "output_type": "execute_result"
    }
   ],
   "source": [
    "# Validation Data set\n",
    "\n",
    "emb = C[Xdev] # (32, 3, 2)\n",
    "h = torch.tanh(emb.view(-1, 30) @ W1 + b1) # (32, 100)\n",
    "logits = h @ W2 + b2 # (32, 27)\n",
    "loss = F.cross_entropy(logits, Ydev)\n",
    "loss"
   ]
  },
  {
   "cell_type": "markdown",
   "id": "60901795-6715-42b4-b6b5-ea865a9e1b91",
   "metadata": {},
   "source": [
    "# Generating Samples\n",
    "\n",
    "Here's a quick snippet from Andrej to generate sample outputs"
   ]
  },
  {
   "cell_type": "code",
   "execution_count": 110,
   "id": "6b47505e-bf7e-4eb4-a9ad-8018fc7bfef1",
   "metadata": {},
   "outputs": [
    {
     "name": "stdout",
     "output_type": "stream",
     "text": [
      "mohailyna.\n",
      "zeellend.\n",
      "rylla.\n",
      "emmadieja.\n",
      "leg.\n",
      "adered.\n",
      "elin.\n",
      "shi.\n",
      "jen.\n",
      "eden.\n",
      "sananaraelynn.\n",
      "hona.\n",
      "cayshaberging.\n",
      "jest.\n",
      "jairetlynn.\n",
      "nophianu.\n",
      "zen.\n",
      "dariyah.\n",
      "faeha.\n",
      "kayjahston.\n"
     ]
    }
   ],
   "source": [
    "g = torch.Generator().manual_seed(2147483647 + 10)\n",
    "\n",
    "for _ in range(20):\n",
    "    \n",
    "    out = []\n",
    "    context = [0] * block_size # initialize with all ...\n",
    "    while True:\n",
    "      emb = C[torch.tensor([context])] # (1,block_size,d)\n",
    "      h = torch.tanh(emb.view(1, -1) @ W1 + b1)\n",
    "      logits = h @ W2 + b2\n",
    "      probs = F.softmax(logits, dim=1)\n",
    "      ix = torch.multinomial(probs, num_samples=1, generator=g).item()\n",
    "      context = context[1:] + [ix]\n",
    "      out.append(ix)\n",
    "      if ix == 0:\n",
    "        break\n",
    "    \n",
    "    print(''.join(itos[i] for i in out))"
   ]
  }
 ],
 "metadata": {
  "kernelspec": {
   "display_name": "karpathy",
   "language": "python",
   "name": "karpathy"
  },
  "language_info": {
   "codemirror_mode": {
    "name": "ipython",
    "version": 3
   },
   "file_extension": ".py",
   "mimetype": "text/x-python",
   "name": "python",
   "nbconvert_exporter": "python",
   "pygments_lexer": "ipython3",
   "version": "3.10.1"
  }
 },
 "nbformat": 4,
 "nbformat_minor": 5
}
