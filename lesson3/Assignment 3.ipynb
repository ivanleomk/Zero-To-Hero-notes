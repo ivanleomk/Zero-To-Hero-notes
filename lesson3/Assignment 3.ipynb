{
 "cells": [
  {
   "cell_type": "code",
   "execution_count": 14,
   "id": "c4f46dab-8ebd-4815-80f3-6e6ebb20cf14",
   "metadata": {},
   "outputs": [],
   "source": [
    "import torch\n",
    "import torch.nn.functional as F\n",
    "import matplotlib.pyplot as plt # for making figures\n",
    "%matplotlib inline\n",
    "import random\n",
    "import math"
   ]
  },
  {
   "cell_type": "markdown",
   "id": "365dd52e-a0e7-4d06-b3bc-5a1ff654cfd9",
   "metadata": {},
   "source": [
    "# Optimizing Makemore with a Simple Neural Net\n",
    "\n",
    "Goal is to get a decreased loss "
   ]
  },
  {
   "cell_type": "markdown",
   "id": "64861467-1489-43c3-a73e-233ae48435b6",
   "metadata": {},
   "source": [
    "## Creating Dataset"
   ]
  },
  {
   "cell_type": "code",
   "execution_count": 7,
   "id": "a2051634-53cb-4760-84c5-c5b8c05acee8",
   "metadata": {},
   "outputs": [
    {
     "name": "stdout",
     "output_type": "stream",
     "text": [
      "  % Total    % Received % Xferd  Average Speed   Time    Time     Time  Current\n",
      "                                 Dload  Upload   Total   Spent    Left  Speed\n",
      "100  222k  100  222k    0     0   409k      0 --:--:-- --:--:-- --:--:--  415k\n"
     ]
    }
   ],
   "source": [
    "!curl https://raw.githubusercontent.com/karpathy/makemore/master/names.txt > names.txt"
   ]
  },
  {
   "cell_type": "code",
   "execution_count": 9,
   "id": "c916bd86-50a0-4290-a57d-70efe5763276",
   "metadata": {},
   "outputs": [],
   "source": [
    "words = [i.strip() for i in open(\"names.txt\").readlines()]\n",
    "chars = sorted(list(set(''.join(words))))\n",
    "stoi = {s:i+1 for i,s in enumerate(chars)}\n",
    "stoi['.'] = 0\n",
    "itos = {i:s for s,i in stoi.items()}"
   ]
  },
  {
   "cell_type": "code",
   "execution_count": 11,
   "id": "5eded27d-79b0-42aa-a2aa-8eb766203397",
   "metadata": {},
   "outputs": [
    {
     "name": "stdout",
     "output_type": "stream",
     "text": [
      "torch.Size([182580, 3]) torch.Size([182580])\n",
      "torch.Size([22767, 3]) torch.Size([22767])\n",
      "torch.Size([22799, 3]) torch.Size([22799])\n"
     ]
    }
   ],
   "source": [
    "block_size = 3\n",
    "def build_dataset(words):  \n",
    "  X, Y = [], []\n",
    "  for w in words:\n",
    "\n",
    "    #print(w)\n",
    "    context = [0] * block_size\n",
    "    for ch in w + '.':\n",
    "      ix = stoi[ch]\n",
    "      X.append(context)\n",
    "      Y.append(ix)\n",
    "      #print(''.join(itos[i] for i in context), '--->', itos[ix])\n",
    "      context = context[1:] + [ix] # crop and append\n",
    "\n",
    "  X = torch.tensor(X)\n",
    "  Y = torch.tensor(Y)\n",
    "  print(X.shape, Y.shape)\n",
    "  return X, Y\n",
    "\n",
    "random.seed(42)\n",
    "random.shuffle(words)\n",
    "n1 = int(0.8*len(words))\n",
    "n2 = int(0.9*len(words))\n",
    "\n",
    "Xtr, Ytr = build_dataset(words[:n1])\n",
    "Xdev, Ydev = build_dataset(words[n1:n2])\n",
    "Xte, Yte = build_dataset(words[n2:])"
   ]
  },
  {
   "cell_type": "markdown",
   "id": "7bf23a35-0d06-4b97-996e-02d5df7861f7",
   "metadata": {},
   "source": [
    "## Base Model"
   ]
  },
  {
   "cell_type": "code",
   "execution_count": 12,
   "id": "3197eda5-e5c8-4636-a271-3ef0b0d3c4e8",
   "metadata": {},
   "outputs": [],
   "source": [
    "g = torch.Generator().manual_seed(2147483647) # for reproducibility\n",
    "C = torch.randn((27, 10), generator=g)\n",
    "W1 = torch.randn((30, 300), generator=g)\n",
    "b1 = torch.randn(300, generator=g)\n",
    "W2 = torch.randn((300, 27), generator=g)\n",
    "b2 = torch.randn(27, generator=g)\n",
    "parameters = [C, W1, b1, W2, b2]\n",
    "\n",
    "for p in parameters:\n",
    "  p.requires_grad = True"
   ]
  },
  {
   "cell_type": "code",
   "execution_count": 15,
   "id": "a06ee479-607f-4d58-888d-58fb70f0a30e",
   "metadata": {},
   "outputs": [],
   "source": [
    "lri = []\n",
    "lossi = []\n",
    "log_lossi = []\n",
    "epochs = 100000\n",
    "introduce_decay = 0.8\n",
    "\n",
    "for idx in range(epochs):\n",
    "    ix = torch.randint(0,Xtr.shape[0],(32,))\n",
    "    emb = C[Xtr[ix]]\n",
    "    h = torch.tanh(emb.view(-1,30)@W1+b1)\n",
    "    logits = h @ W2 + b2\n",
    "\n",
    "    for p in parameters:\n",
    "        p.grad = None\n",
    "    \n",
    "    loss = F.cross_entropy(logits,Ytr[ix])\n",
    "    loss.backward()\n",
    "\n",
    "    lr = 0.1 if idx < math.floor(introduce_decay*epochs) else 0.01\n",
    "    for p in parameters:\n",
    "        p.data += -lr * p.grad\n",
    "\n",
    "    \n",
    "    lri.append(lr)\n",
    "    lossi.append(loss.item())\n",
    "    log_lossi.append(loss.log10().item())\n",
    "    "
   ]
  },
  {
   "cell_type": "code",
   "execution_count": 16,
   "id": "43072c07-7441-4c71-9a45-eb0b5fc17c1f",
   "metadata": {},
   "outputs": [
    {
     "data": {
      "text/plain": [
       "tensor(2.1442, grad_fn=<NllLossBackward0>)"
      ]
     },
     "execution_count": 16,
     "metadata": {},
     "output_type": "execute_result"
    }
   ],
   "source": [
    "# Training Data set\n",
    "\n",
    "emb = C[Xtr] # (32, 3, 2)\n",
    "h = torch.tanh(emb.view(-1, 30) @ W1 + b1) # (32, 100)\n",
    "logits = h @ W2 + b2 # (32, 27)\n",
    "loss = F.cross_entropy(logits, Ytr)\n",
    "loss"
   ]
  },
  {
   "cell_type": "code",
   "execution_count": 17,
   "id": "0ec444cf-5444-4b31-90db-855a73a17ce5",
   "metadata": {},
   "outputs": [
    {
     "data": {
      "text/plain": [
       "tensor(2.1804, grad_fn=<NllLossBackward0>)"
      ]
     },
     "execution_count": 17,
     "metadata": {},
     "output_type": "execute_result"
    }
   ],
   "source": [
    "# Validation Data set\n",
    "\n",
    "emb = C[Xdev] # (32, 3, 2)\n",
    "h = torch.tanh(emb.view(-1, 30) @ W1 + b1) # (32, 100)\n",
    "logits = h @ W2 + b2 # (32, 27)\n",
    "loss = F.cross_entropy(logits, Ydev)\n",
    "loss"
   ]
  },
  {
   "cell_type": "markdown",
   "id": "a29a25ce-5477-4561-be4d-ed3b239c1989",
   "metadata": {},
   "source": [
    "## Increasing Embedding Size"
   ]
  },
  {
   "cell_type": "code",
   "execution_count": 26,
   "id": "2546f529-8cac-49e8-bc14-771702502d7c",
   "metadata": {},
   "outputs": [],
   "source": [
    "BLOCK_SIZE = 3\n",
    "EMBEDDING_SIZE = 15\n",
    "INITIAL_INPUT_SIZE = BLOCK_SIZE * EMBEDDING_SIZE\n",
    "\n",
    "g = torch.Generator().manual_seed(2147483647) # for reproducibility\n",
    "C = torch.randn((27, EMBEDDING_SIZE), generator=g)\n",
    "W1 = torch.randn((INITIAL_INPUT_SIZE, 300), generator=g)\n",
    "b1 = torch.randn(300, generator=g)\n",
    "W2 = torch.randn((300, 27), generator=g)\n",
    "b2 = torch.randn(27, generator=g)\n",
    "parameters = [C, W1, b1, W2, b2]\n",
    "\n",
    "for p in parameters:\n",
    "  p.requires_grad = True"
   ]
  },
  {
   "cell_type": "code",
   "execution_count": 27,
   "id": "771d9c95-bf07-4813-93e0-0d70f38de98a",
   "metadata": {},
   "outputs": [],
   "source": [
    "lri = []\n",
    "lossi = []\n",
    "log_lossi = []\n",
    "epochs = 200000\n",
    "introduce_decay = 0.7\n",
    "\n",
    "for idx in range(epochs):\n",
    "    ix = torch.randint(0,Xtr.shape[0],(32,))\n",
    "    emb = C[Xtr[ix]]\n",
    "    h = torch.tanh(emb.view(-1,INITIAL_INPUT_SIZE)@W1+b1)\n",
    "    logits = h @ W2 + b2\n",
    "\n",
    "    for p in parameters:\n",
    "        p.grad = None\n",
    "    \n",
    "    loss = F.cross_entropy(logits,Ytr[ix])\n",
    "    loss.backward()\n",
    "\n",
    "    lr = 0.1 if idx < math.floor(introduce_decay*epochs) else 0.01\n",
    "    for p in parameters:\n",
    "        p.data += -lr * p.grad\n",
    "\n",
    "    \n",
    "    lri.append(lr)\n",
    "    lossi.append(loss.item())\n",
    "    log_lossi.append(loss.log10().item())\n",
    "    "
   ]
  },
  {
   "cell_type": "code",
   "execution_count": 28,
   "id": "4567527e-f7c2-4216-891c-c8666ee206fd",
   "metadata": {},
   "outputs": [
    {
     "data": {
      "text/plain": [
       "tensor(2.0588, grad_fn=<NllLossBackward0>)"
      ]
     },
     "execution_count": 28,
     "metadata": {},
     "output_type": "execute_result"
    }
   ],
   "source": [
    "# Training Data set\n",
    "\n",
    "emb = C[Xtr] # (32, 3, 2)\n",
    "h = torch.tanh(emb.view(-1, INITIAL_INPUT_SIZE) @ W1 + b1) # (32, 100)\n",
    "logits = h @ W2 + b2 # (32, 27)\n",
    "loss = F.cross_entropy(logits, Ytr)\n",
    "loss"
   ]
  },
  {
   "cell_type": "code",
   "execution_count": 29,
   "id": "33217ced-bcd3-4d2e-adaa-7206fc5b1dc3",
   "metadata": {},
   "outputs": [
    {
     "data": {
      "text/plain": [
       "tensor(2.1529, grad_fn=<NllLossBackward0>)"
      ]
     },
     "execution_count": 29,
     "metadata": {},
     "output_type": "execute_result"
    }
   ],
   "source": [
    "# Validation Data set\n",
    "\n",
    "emb = C[Xdev] # (32, 3, 2)\n",
    "h = torch.tanh(emb.view(-1, INITIAL_INPUT_SIZE) @ W1 + b1) # (32, 100)\n",
    "logits = h @ W2 + b2 # (32, 27)\n",
    "loss = F.cross_entropy(logits, Ydev)\n",
    "loss"
   ]
  },
  {
   "cell_type": "markdown",
   "id": "4e762db1-81c2-4687-a829-69d61fe3c2f4",
   "metadata": {},
   "source": [
    "## Increasing Hiden Layer Size\n",
    "\n",
    "Now we try to add a hidden layer within the model itself"
   ]
  },
  {
   "cell_type": "code",
   "execution_count": 41,
   "id": "f753360d-7fc0-46c8-bfc1-9fea15881034",
   "metadata": {},
   "outputs": [],
   "source": [
    "BLOCK_SIZE = 3\n",
    "EMBEDDING_SIZE = 10\n",
    "INITIAL_INPUT_SIZE = BLOCK_SIZE * EMBEDDING_SIZE\n",
    "\n",
    "g = torch.Generator().manual_seed(2147483647) # for reproducibility\n",
    "C = torch.randn((27, EMBEDDING_SIZE), generator=g)\n",
    "W1 = torch.randn((INITIAL_INPUT_SIZE, 200), generator=g)\n",
    "b1 = torch.randn(200, generator=g)\n",
    "W2 = torch.randn((200, 100), generator=g)\n",
    "b2 = torch.randn(100, generator=g)\n",
    "W3 = torch.randn((100, 27), generator=g)\n",
    "b3 = torch.randn(27, generator=g)\n",
    "parameters = [C, W1, b1, W2, b2,W3,b3]\n",
    "\n",
    "for p in parameters:\n",
    "  p.requires_grad = True"
   ]
  },
  {
   "cell_type": "code",
   "execution_count": 42,
   "id": "8ae23f97-a9d1-4192-8662-a2cf58c0fe07",
   "metadata": {},
   "outputs": [],
   "source": [
    "lri = []\n",
    "lossi = []\n",
    "log_lossi = []\n",
    "epochs = 400000\n",
    "introduce_decay = 0.7\n",
    "\n",
    "for idx in range(epochs):\n",
    "    ix = torch.randint(0,Xtr.shape[0],(32,))\n",
    "    emb = C[Xtr[ix]]\n",
    "    h = torch.tanh(emb.view(-1,INITIAL_INPUT_SIZE)@W1+b1)\n",
    "    l1 = h @ W2 + b2\n",
    "    logits = l1 @ W3 + b3\n",
    "\n",
    "    for p in parameters:\n",
    "        p.grad = None\n",
    "    \n",
    "    loss = F.cross_entropy(logits,Ytr[ix])\n",
    "    loss.backward()\n",
    "\n",
    "    lr = 0.1 if idx < math.floor(introduce_decay*epochs) else 0.01\n",
    "    for p in parameters:\n",
    "        p.data += -lr * p.grad\n",
    "\n",
    "    \n",
    "    lri.append(lr)\n",
    "    lossi.append(loss.item())\n",
    "    log_lossi.append(loss.log10().item())\n",
    "    "
   ]
  },
  {
   "cell_type": "code",
   "execution_count": 43,
   "id": "bc88b2aa-cf83-4470-9f2d-54a7cdfe8e06",
   "metadata": {},
   "outputs": [
    {
     "data": {
      "text/plain": [
       "tensor(2.1928, grad_fn=<NllLossBackward0>)"
      ]
     },
     "execution_count": 43,
     "metadata": {},
     "output_type": "execute_result"
    }
   ],
   "source": [
    "# Training Data set\n",
    "\n",
    "emb = C[Xtr] # (32, 3, 2)\n",
    "h = torch.tanh(emb.view(-1, INITIAL_INPUT_SIZE) @ W1 + b1) # (32, 100)\n",
    "l1 = h @ W2 + b2\n",
    "logits = l1 @ W3 + b3\n",
    "loss = F.cross_entropy(logits, Ytr)\n",
    "loss"
   ]
  },
  {
   "cell_type": "code",
   "execution_count": 44,
   "id": "2f1fb9fa-ab68-4ae1-a53e-97a2fd4fd95b",
   "metadata": {},
   "outputs": [
    {
     "data": {
      "text/plain": [
       "tensor(2.2243, grad_fn=<NllLossBackward0>)"
      ]
     },
     "execution_count": 44,
     "metadata": {},
     "output_type": "execute_result"
    }
   ],
   "source": [
    "# Validation Data set\n",
    "\n",
    "emb = C[Xdev] # (32, 3, 2)\n",
    "h = torch.tanh(emb.view(-1, INITIAL_INPUT_SIZE) @ W1 + b1) # (32, 100)\n",
    "l1 = h @ W2 + b2\n",
    "logits = l1 @ W3 + b3\n",
    "loss = F.cross_entropy(logits, Ydev)\n",
    "loss"
   ]
  },
  {
   "cell_type": "markdown",
   "id": "1ca400a9-3a5a-4398-a392-e16b291aadce",
   "metadata": {},
   "source": [
    "## Increasing Context Size"
   ]
  },
  {
   "cell_type": "code",
   "execution_count": 78,
   "id": "2208e3dd-7bb3-46e2-a5d6-5edf320812fd",
   "metadata": {},
   "outputs": [
    {
     "name": "stdout",
     "output_type": "stream",
     "text": [
      "torch.Size([182512, 4]) torch.Size([182512])\n",
      "torch.Size([22860, 4]) torch.Size([22860])\n",
      "torch.Size([22774, 4]) torch.Size([22774])\n"
     ]
    }
   ],
   "source": [
    "block_size = 4\n",
    "def build_dataset(words):  \n",
    "  X, Y = [], []\n",
    "  for w in words:\n",
    "\n",
    "    #print(w)\n",
    "    context = [0] * block_size\n",
    "    for ch in w + '.':\n",
    "      ix = stoi[ch]\n",
    "      X.append(context)\n",
    "      Y.append(ix)\n",
    "      #print(''.join(itos[i] for i in context), '--->', itos[ix])\n",
    "      context = context[1:] + [ix] # crop and append\n",
    "\n",
    "  X = torch.tensor(X)\n",
    "  Y = torch.tensor(Y)\n",
    "  print(X.shape, Y.shape)\n",
    "  return X, Y\n",
    "\n",
    "random.seed(42)\n",
    "random.shuffle(words)\n",
    "n1 = int(0.8*len(words))\n",
    "n2 = int(0.9*len(words))\n",
    "\n",
    "Xtr, Ytr = build_dataset(words[:n1])\n",
    "Xdev, Ydev = build_dataset(words[n1:n2])\n",
    "Xte, Yte = build_dataset(words[n2:])"
   ]
  },
  {
   "cell_type": "code",
   "execution_count": 79,
   "id": "3ca1fd9b-a64d-48e9-8268-7663243426db",
   "metadata": {},
   "outputs": [],
   "source": [
    "EMBEDDING_SIZE = 10\n",
    "INITIAL_INPUT_SIZE = block_size * EMBEDDING_SIZE\n",
    "\n",
    "g = torch.Generator().manual_seed(2147483647) # for reproducibility\n",
    "C = torch.randn((27, EMBEDDING_SIZE), generator=g)\n",
    "W1 = torch.randn((INITIAL_INPUT_SIZE, 200), generator=g)\n",
    "b1 = torch.randn(200, generator=g)\n",
    "W2 = torch.randn((200, 100), generator=g)\n",
    "b2 = torch.randn(100, generator=g)\n",
    "parameters = [C, W1, b1, W2, b2]\n",
    "\n",
    "for p in parameters:\n",
    "  p.requires_grad = True"
   ]
  },
  {
   "cell_type": "code",
   "execution_count": 90,
   "id": "8e505047-a71a-47ca-91bc-14a46d920654",
   "metadata": {},
   "outputs": [],
   "source": [
    "lri = []\n",
    "lossi = []\n",
    "log_lossi = []\n",
    "epochs = 200000\n",
    "introduce_decay = 0.8\n",
    "\n",
    "for idx in range(epochs):\n",
    "    ix = torch.randint(0,Xtr.shape[0],(32,))\n",
    "    emb = C[Xtr[ix]]\n",
    "    h = torch.tanh(emb.view(-1,INITIAL_INPUT_SIZE)@W1+b1)\n",
    "    logits = h @ W2 + b2\n",
    "\n",
    "    for p in parameters:\n",
    "        p.grad = None\n",
    "    \n",
    "    loss = F.cross_entropy(logits,Ytr[ix])\n",
    "    loss.backward()\n",
    "\n",
    "    lr = 0.1 if idx < math.floor(introduce_decay*epochs) else 0.01\n",
    "    for p in parameters:\n",
    "        p.data += -lr * p.grad\n",
    "\n",
    "    \n",
    "    lri.append(lr)\n",
    "    lossi.append(loss.item())\n",
    "    log_lossi.append(loss.log10().item())\n",
    "    "
   ]
  },
  {
   "cell_type": "code",
   "execution_count": 91,
   "id": "e157efc8-4b9f-4879-ae4f-6702024ad04f",
   "metadata": {},
   "outputs": [
    {
     "data": {
      "text/plain": [
       "[<matplotlib.lines.Line2D at 0x123fc3f10>]"
      ]
     },
     "execution_count": 91,
     "metadata": {},
     "output_type": "execute_result"
    },
    {
     "data": {
      "image/png": "[encoded data removed]",
      "text/plain": [
       "<Figure size 640x480 with 1 Axes>"
      ]
     },
     "metadata": {},
     "output_type": "display_data"
    }
   ],
   "source": [
    "plt.plot([i for i in range(epochs)], log_lossi)"
   ]
  },
  {
   "cell_type": "code",
   "execution_count": 92,
   "id": "03f0e9e7-513f-47cd-9810-05c69ee71cf0",
   "metadata": {},
   "outputs": [
    {
     "data": {
      "text/plain": [
       "tensor(2.0934, grad_fn=<NllLossBackward0>)"
      ]
     },
     "execution_count": 92,
     "metadata": {},
     "output_type": "execute_result"
    }
   ],
   "source": [
    "# Training Data set\n",
    "emb = C[Xtr] # (32, 3, 2)\n",
    "h = torch.tanh(emb.view(-1, INITIAL_INPUT_SIZE) @ W1 + b1) # (32, 100)\n",
    "logits = h @ W2 + b2\n",
    "loss = F.cross_entropy(logits, Ytr)\n",
    "loss"
   ]
  },
  {
   "cell_type": "code",
   "execution_count": 93,
   "id": "187de2a0-ea40-42a3-9d13-574cee5a9600",
   "metadata": {},
   "outputs": [
    {
     "data": {
      "text/plain": [
       "tensor(2.1366, grad_fn=<NllLossBackward0>)"
      ]
     },
     "execution_count": 93,
     "metadata": {},
     "output_type": "execute_result"
    }
   ],
   "source": [
    "# Training Data set\n",
    "emb = C[Xdev] # (32, 3, 2)\n",
    "h = torch.tanh(emb.view(-1, INITIAL_INPUT_SIZE) @ W1 + b1) # (32, 100)\n",
    "logits = h @ W2 + b2\n",
    "loss = F.cross_entropy(logits, Ydev)\n",
    "loss"
   ]
  },
  {
   "cell_type": "markdown",
   "id": "2d865705-3945-4c2c-9236-e57504eab549",
   "metadata": {},
   "source": [
    "## Adding a random lr change and increasing block size\n"
   ]
  },
  {
   "cell_type": "code",
   "execution_count": 94,
   "id": "224e83ee-8c0e-497a-af4b-91f4ef2d2f75",
   "metadata": {},
   "outputs": [
    {
     "name": "stdout",
     "output_type": "stream",
     "text": [
      "torch.Size([182484, 4]) torch.Size([182484])\n",
      "torch.Size([22869, 4]) torch.Size([22869])\n",
      "torch.Size([22793, 4]) torch.Size([22793])\n"
     ]
    }
   ],
   "source": [
    "block_size = 4\n",
    "def build_dataset(words):  \n",
    "  X, Y = [], []\n",
    "  for w in words:\n",
    "\n",
    "    #print(w)\n",
    "    context = [0] * block_size\n",
    "    for ch in w + '.':\n",
    "      ix = stoi[ch]\n",
    "      X.append(context)\n",
    "      Y.append(ix)\n",
    "      #print(''.join(itos[i] for i in context), '--->', itos[ix])\n",
    "      context = context[1:] + [ix] # crop and append\n",
    "\n",
    "  X = torch.tensor(X)\n",
    "  Y = torch.tensor(Y)\n",
    "  print(X.shape, Y.shape)\n",
    "  return X, Y\n",
    "\n",
    "random.seed(42)\n",
    "random.shuffle(words)\n",
    "n1 = int(0.8*len(words))\n",
    "n2 = int(0.9*len(words))\n",
    "\n",
    "Xtr, Ytr = build_dataset(words[:n1])\n",
    "Xdev, Ydev = build_dataset(words[n1:n2])\n",
    "Xte, Yte = build_dataset(words[n2:])"
   ]
  },
  {
   "cell_type": "code",
   "execution_count": 108,
   "id": "07aef33c-498f-48f2-9263-eb1f31f5f905",
   "metadata": {},
   "outputs": [],
   "source": [
    "EMBEDDING_SIZE = 10\n",
    "INITIAL_INPUT_SIZE = block_size * EMBEDDING_SIZE\n",
    "\n",
    "g = torch.Generator().manual_seed(2147483647) # for reproducibility\n",
    "C = torch.randn((27, EMBEDDING_SIZE), generator=g)\n",
    "W1 = torch.randn((INITIAL_INPUT_SIZE, 200), generator=g)\n",
    "b1 = torch.randn(200, generator=g)\n",
    "W2 = torch.randn((200, 100), generator=g)\n",
    "b2 = torch.randn(100, generator=g)\n",
    "parameters = [C, W1, b1, W2, b2]\n",
    "\n",
    "for p in parameters:\n",
    "  p.requires_grad = True"
   ]
  },
  {
   "cell_type": "code",
   "execution_count": 109,
   "id": "9044d348-6c40-4125-88ea-b820d88c93ef",
   "metadata": {},
   "outputs": [],
   "source": [
    "lri = []\n",
    "lossi = []\n",
    "log_lossi = []\n",
    "epochs = 200000\n",
    "introduce_decay = 0.8\n",
    "\n",
    "for idx in range(epochs):\n",
    "    ix = torch.randint(0,Xtr.shape[0],(32,))\n",
    "    emb = C[Xtr[ix]]\n",
    "    h = torch.tanh(emb.view(-1,INITIAL_INPUT_SIZE)@W1+b1)\n",
    "    logits = h @ W2 + b2\n",
    "\n",
    "    for p in parameters:\n",
    "        p.grad = None\n",
    "    \n",
    "    loss = F.cross_entropy(logits,Ytr[ix])\n",
    "    loss.backward()\n",
    "\n",
    "    if random.uniform(0, 1) < 0.95:\n",
    "        lr = 0.1 if idx < math.floor(introduce_decay*epochs) else 0.01\n",
    "    else:\n",
    "        lr = random.uniform(0, 1)\n",
    "    \n",
    "    for p in parameters:\n",
    "        p.data += -lr * p.grad\n",
    "\n",
    "    \n",
    "    lri.append(lr)\n",
    "    lossi.append(loss.item())\n",
    "    log_lossi.append(loss.log10().item())\n",
    "    "
   ]
  },
  {
   "cell_type": "code",
   "execution_count": 110,
   "id": "004941d4-5bf2-417a-b3d9-f178540936dd",
   "metadata": {},
   "outputs": [
    {
     "data": {
      "text/plain": [
       "[<matplotlib.lines.Line2D at 0x126d22320>]"
      ]
     },
     "execution_count": 110,
     "metadata": {},
     "output_type": "execute_result"
    },
    {
     "data": {
      "image/png": "[encoded data removed]",
      "text/plain": [
       "<Figure size 640x480 with 1 Axes>"
      ]
     },
     "metadata": {},
     "output_type": "display_data"
    }
   ],
   "source": [
    "plt.plot([i for i in range(epochs)], lossi)"
   ]
  },
  {
   "cell_type": "code",
   "execution_count": 111,
   "id": "f1ce589a-5fc5-4e40-817c-3c80ef625474",
   "metadata": {},
   "outputs": [
    {
     "data": {
      "text/plain": [
       "tensor(6.6411, grad_fn=<NllLossBackward0>)"
      ]
     },
     "execution_count": 111,
     "metadata": {},
     "output_type": "execute_result"
    }
   ],
   "source": [
    "# Training Data set\n",
    "emb = C[Xtr] # (32, 3, 2)\n",
    "h = torch.tanh(emb.view(-1, INITIAL_INPUT_SIZE) @ W1 + b1) # (32, 100)\n",
    "logits = h @ W2 + b2\n",
    "loss = F.cross_entropy(logits, Ytr)\n",
    "loss"
   ]
  },
  {
   "cell_type": "code",
   "execution_count": 112,
   "id": "7df14676-aaf4-49ea-8b46-c334ec7ce9a1",
   "metadata": {},
   "outputs": [
    {
     "data": {
      "text/plain": [
       "tensor(6.6683, grad_fn=<NllLossBackward0>)"
      ]
     },
     "execution_count": 112,
     "metadata": {},
     "output_type": "execute_result"
    }
   ],
   "source": [
    "# Training Data set\n",
    "emb = C[Xdev] # (32, 3, 2)\n",
    "h = torch.tanh(emb.view(-1, INITIAL_INPUT_SIZE) @ W1 + b1) # (32, 100)\n",
    "logits = h @ W2 + b2\n",
    "loss = F.cross_entropy(logits, Ydev)\n",
    "loss"
   ]
  }
 ],
 "metadata": {
  "kernelspec": {
   "display_name": "karpathy",
   "language": "python",
   "name": "karpathy"
  },
  "language_info": {
   "codemirror_mode": {
    "name": "ipython",
    "version": 3
   },
   "file_extension": ".py",
   "mimetype": "text/x-python",
   "name": "python",
   "nbconvert_exporter": "python",
   "pygments_lexer": "ipython3",
   "version": "3.10.1"
  }
 },
 "nbformat": 4,
 "nbformat_minor": 5
}
